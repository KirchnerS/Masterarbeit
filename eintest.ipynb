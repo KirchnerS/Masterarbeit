{
 "cells": [
  {
   "cell_type": "code",
   "execution_count": 1,
   "metadata": {
    "executionInfo": {
     "elapsed": 1086,
     "status": "ok",
     "timestamp": 1657634470603,
     "user": {
      "displayName": "Sven",
      "userId": "16997037369850351210"
     },
     "user_tz": -120
    },
    "id": "VLyKQxhoztob"
   },
   "outputs": [],
   "source": [
    "\n",
    "from torch import nn\n",
    "import torch\n",
    "import numpy as np\n",
    "import pandas as pd\n",
    "from transformers import BertTokenizer, BertModel, AutoTokenizer\n",
    "from torch.optim import Adam\n",
    "from tqdm import tqdm\n",
    "from sklearn.model_selection import StratifiedKFold\n",
    "import requests\n",
    "from bs4 import BeautifulSoup\n",
    "import os"
   ]
  },
  {
   "cell_type": "code",
   "execution_count": 6,
   "metadata": {
    "colab": {
     "base_uri": "https://localhost:8080/"
    },
    "executionInfo": {
     "elapsed": 10780,
     "status": "ok",
     "timestamp": 1657633132431,
     "user": {
      "displayName": "Sven",
      "userId": "16997037369850351210"
     },
     "user_tz": -120
    },
    "id": "XIGa2z3Lz5c6",
    "outputId": "57ee4c0a-d68b-47f5-dcb0-23a1ef0ff847"
   },
   "outputs": [
    {
     "data": {
      "text/plain": [
       "0"
      ]
     },
     "execution_count": 6,
     "metadata": {},
     "output_type": "execute_result"
    }
   ],
   "source": []
  },
  {
   "cell_type": "code",
   "execution_count": 2,
   "metadata": {
    "executionInfo": {
     "elapsed": 4,
     "status": "ok",
     "timestamp": 1657622873665,
     "user": {
      "displayName": "Sven",
      "userId": "16997037369850351210"
     },
     "user_tz": -120
    },
    "id": "jWGnJLEbztoe"
   },
   "outputs": [],
   "source": [
    "torch.cuda.empty_cache()\n",
    "pd.set_option('display.max_rows',500)\n"
   ]
  },
  {
   "cell_type": "code",
   "execution_count": 2,
   "metadata": {},
   "outputs": [
    {
     "data": {
      "text/plain": [
       "0"
      ]
     },
     "execution_count": 2,
     "metadata": {},
     "output_type": "execute_result"
    }
   ],
   "source": [
    "torch.cuda.set_device(0)\n",
    "torch.cuda.current_device()"
   ]
  },
  {
   "cell_type": "code",
   "execution_count": 4,
   "metadata": {},
   "outputs": [
    {
     "data": {
      "text/html": [
       "<div>\n",
       "<style scoped>\n",
       "    .dataframe tbody tr th:only-of-type {\n",
       "        vertical-align: middle;\n",
       "    }\n",
       "\n",
       "    .dataframe tbody tr th {\n",
       "        vertical-align: top;\n",
       "    }\n",
       "\n",
       "    .dataframe thead th {\n",
       "        text-align: right;\n",
       "    }\n",
       "</style>\n",
       "<table border=\"1\" class=\"dataframe\">\n",
       "  <thead>\n",
       "    <tr style=\"text-align: right;\">\n",
       "      <th></th>\n",
       "      <th>Comment</th>\n",
       "      <th>Sentiment</th>\n",
       "    </tr>\n",
       "  </thead>\n",
       "  <tbody>\n",
       "    <tr>\n",
       "      <th>401</th>\n",
       "      <td>Die Einigung für Schulen ist fatal. Frau Eisen...</td>\n",
       "      <td>negative</td>\n",
       "    </tr>\n",
       "    <tr>\n",
       "      <th>478</th>\n",
       "      <td>Vernünftige Entscheidung, mit der Impfung entf...</td>\n",
       "      <td>positive</td>\n",
       "    </tr>\n",
       "    <tr>\n",
       "      <th>2488</th>\n",
       "      <td>Wir sind doch nicht in einer (Standard-) Schul...</td>\n",
       "      <td>negative</td>\n",
       "    </tr>\n",
       "    <tr>\n",
       "      <th>843</th>\n",
       "      <td>Wie schön, es geht voran.   Bis Ende Mai sind ...</td>\n",
       "      <td>positive</td>\n",
       "    </tr>\n",
       "    <tr>\n",
       "      <th>344</th>\n",
       "      <td>Nun gut, wenn sarkastische Kommentare nicht me...</td>\n",
       "      <td>neutral</td>\n",
       "    </tr>\n",
       "    <tr>\n",
       "      <th>...</th>\n",
       "      <td>...</td>\n",
       "      <td>...</td>\n",
       "    </tr>\n",
       "    <tr>\n",
       "      <th>1066</th>\n",
       "      <td>Übrigens: das RKI prognostizierte am 12. März ...</td>\n",
       "      <td>neutral</td>\n",
       "    </tr>\n",
       "    <tr>\n",
       "      <th>3901</th>\n",
       "      <td>Donny will nach 8 Monaten beginnen Menschen zu...</td>\n",
       "      <td>negative</td>\n",
       "    </tr>\n",
       "    <tr>\n",
       "      <th>1393</th>\n",
       "      <td>De lockdau mi sine positive eigeschaft für d'u...</td>\n",
       "      <td>negative</td>\n",
       "    </tr>\n",
       "    <tr>\n",
       "      <th>3027</th>\n",
       "      <td>Deutschlands \"Intelligentia\" regelt ...</td>\n",
       "      <td>negative</td>\n",
       "    </tr>\n",
       "    <tr>\n",
       "      <th>2576</th>\n",
       "      <td>Ich kann mich nicht erinnern, dass die Grünen ...</td>\n",
       "      <td>negative</td>\n",
       "    </tr>\n",
       "  </tbody>\n",
       "</table>\n",
       "<p>3196 rows × 2 columns</p>\n",
       "</div>"
      ],
      "text/plain": [
       "                                                Comment Sentiment\n",
       "401   Die Einigung für Schulen ist fatal. Frau Eisen...  negative\n",
       "478   Vernünftige Entscheidung, mit der Impfung entf...  positive\n",
       "2488  Wir sind doch nicht in einer (Standard-) Schul...  negative\n",
       "843   Wie schön, es geht voran.   Bis Ende Mai sind ...  positive\n",
       "344   Nun gut, wenn sarkastische Kommentare nicht me...   neutral\n",
       "...                                                 ...       ...\n",
       "1066  Übrigens: das RKI prognostizierte am 12. März ...   neutral\n",
       "3901  Donny will nach 8 Monaten beginnen Menschen zu...  negative\n",
       "1393  De lockdau mi sine positive eigeschaft für d'u...  negative\n",
       "3027            Deutschlands \"Intelligentia\" regelt ...  negative\n",
       "2576  Ich kann mich nicht erinnern, dass die Grünen ...  negative\n",
       "\n",
       "[3196 rows x 2 columns]"
      ]
     },
     "execution_count": 4,
     "metadata": {},
     "output_type": "execute_result"
    }
   ],
   "source": [
    "### Merging Sentiment and Opinion\n",
    "\n",
    "dataset_topic = pd.read_csv(\"annotated_data/annotated_data_with_users_and_al_cleaned2check.csv\", names=[\"ID\", \"Date\", \"Time\", \"Comment Level\", \"Username\", \"Opinion\", \"Sentiment\", \"Topic_comment\", \"Topic_article\", \"Comment\", \"Method\"], encoding=\"ISO-8859-1\")\n",
    "dataset_topic[\"Sentiment\"] = dataset_topic[\"Sentiment\"] + dataset_topic[\"Opinion\"]\n",
    "label_to_id = {x:y for y,x in enumerate(dataset_topic[\"Sentiment\"].unique()) }\n",
    "dataset_topic = dataset_topic[[\"Comment\", \"Sentiment\"]]\n",
    "df_train, df_test = np.split(dataset_topic.sample(frac=1, random_state=77), [int(.8*len(dataset_topic))])\n",
    "dataset_topic.reset_index(drop=True, inplace=True)\n",
    "dataset_topic[\"Sentiment\"].unique()\n",
    "df_train\n"
   ]
  },
  {
   "cell_type": "code",
   "execution_count": 3,
   "metadata": {
    "colab": {
     "base_uri": "https://localhost:8080/"
    },
    "executionInfo": {
     "elapsed": 1075,
     "status": "ok",
     "timestamp": 1657647762999,
     "user": {
      "displayName": "Sven",
      "userId": "16997037369850351210"
     },
     "user_tz": -120
    },
    "id": "WCzBdMWwztoe",
    "outputId": "b4adcd11-5b75-414f-d9e2-c35d8e530c53"
   },
   "outputs": [
    {
     "name": "stdout",
     "output_type": "stream",
     "text": [
      "{'lockerung': 0, 'infektion': 1, 'wirtschaft': 2, 'impfung': 3, 'maßnahmen': 4, 'politik': 5, 'demos': 6}\n",
      "['demos']\n",
      "maßnahmen     1110\n",
      "politik        915\n",
      "infektion      571\n",
      "impfung        549\n",
      "wirtschaft     449\n",
      "lockerung      288\n",
      "demos          114\n",
      "Name: Topic_comment, dtype: int64\n",
      "                                        ID        Date      Time  \\\n",
      "0     40a7c181-1ab8-4d4b-bca5-bf8f4ace27ea  30.04.2020  06:59:00   \n",
      "1     4736f7ec-6396-4f5f-991b-1f83e5f5df66  07.03.2021  17:19:00   \n",
      "2     5994b2b8-4e42-49a7-b82c-c78e084df7f7  18.03.2021  13:40:00   \n",
      "3     15557a4c-0e90-412e-8bd5-03ae3f6a7854  13.02.2021  17:57:00   \n",
      "4     aecb14c3-12f5-4f76-aab8-c3620a709fa4  22.12.2020  10:18:00   \n",
      "...                                    ...         ...       ...   \n",
      "3991  855c1ae5-aa3b-4497-bf62-a2b450564320  18.03.2021  16:23:00   \n",
      "3992  3d7819e6-f105-4d41-a2c4-1d06b6f51dc1  22.05.2020  07:15:00   \n",
      "3993  2fbfe25d-a788-409a-844d-fb7bd80bcf44  09.01.2021  13:26:00   \n",
      "3994  55863de1-bf74-49d1-95fe-08d2fbd51970  15.04.2021  11:50:00   \n",
      "3995  bd0465c0-4fc7-4762-9731-a0c98baa0ae0  05.05.2021  19:05:00   \n",
      "\n",
      "      Comment Level              Username   Opinion Sentiment Topic_comment  \\\n",
      "0                 0     Karsten-QGRAZB3WR  negative  negative     lockerung   \n",
      "1                 0         Hospitalitaet  positive  positive     infektion   \n",
      "2                 0  Karl-Heinz-lFYMd87Mg  negative  negative     infektion   \n",
      "3                 0       Glaubnichtalles   neutral   neutral     infektion   \n",
      "4                 0  Schmandter-JT6IwOpMR  negative  negative     infektion   \n",
      "...             ...                   ...       ...       ...           ...   \n",
      "3991              0          M.-wz918EnMg  positive   neutral       impfung   \n",
      "3992              0     Rüdiger-GQduR_6WR  negative   neutral       politik   \n",
      "3993              0  Coraggioso-Ir6WKaaMR  positive  negative       impfung   \n",
      "3994              0       Maria-_AnWpnTWg   neutral  negative     lockerung   \n",
      "3995              0     Gloin_Gimlis_Sohn  negative  negative       politik   \n",
      "\n",
      "     Topic_article                                            Comment  \\\n",
      "0        lockerung  SPON macht mit bei der Hetze der Covid19 Leugn...   \n",
      "1        überblick  +++ Britische Forscher infizieren Freiwillige ...   \n",
      "2        überblick  Braucht es noch einen weiteren Nachweis, dass ...   \n",
      "3        infektion  Es sollte die Frage gestellt werden. Was ist d...   \n",
      "4        infektion  Es wird bis in den Januar hinein Untersuchunge...   \n",
      "...            ...                                                ...   \n",
      "3991       impfung  Ich halte die Freigabe trotz allem für vertret...   \n",
      "3992       politik  Ich hoffe, dass das bald ein Ende hat. China b...   \n",
      "3993     maßnahmen  Merkel: \"Ein Virus, das uns alle trifft, lässt...   \n",
      "3994     lockerung  Moin,  schon komisch, dass  Vereine in den unt...   \n",
      "3995       politik  In einem Land, in dem 60% der Bevölkerung repu...   \n",
      "\n",
      "         Method  \n",
      "0        manual  \n",
      "1     manual_al  \n",
      "2     manual_al  \n",
      "3     manual_al  \n",
      "4     manual_al  \n",
      "...         ...  \n",
      "3991     manual  \n",
      "3992  manual_al  \n",
      "3993     manual  \n",
      "3994  manual_al  \n",
      "3995     manual  \n",
      "\n",
      "[3996 rows x 11 columns]\n",
      "3996\n",
      "maßnahmen     879\n",
      "politik       739\n",
      "infektion     461\n",
      "impfung       442\n",
      "wirtschaft    350\n",
      "lockerung     229\n",
      "demos          96\n",
      "Name: Topic, dtype: int64\n"
     ]
    },
    {
     "data": {
      "text/html": [
       "<div>\n",
       "<style scoped>\n",
       "    .dataframe tbody tr th:only-of-type {\n",
       "        vertical-align: middle;\n",
       "    }\n",
       "\n",
       "    .dataframe tbody tr th {\n",
       "        vertical-align: top;\n",
       "    }\n",
       "\n",
       "    .dataframe thead th {\n",
       "        text-align: right;\n",
       "    }\n",
       "</style>\n",
       "<table border=\"1\" class=\"dataframe\">\n",
       "  <thead>\n",
       "    <tr style=\"text-align: right;\">\n",
       "      <th></th>\n",
       "      <th>Comment</th>\n",
       "      <th>Topic</th>\n",
       "    </tr>\n",
       "  </thead>\n",
       "  <tbody>\n",
       "    <tr>\n",
       "      <th>0</th>\n",
       "      <td>SPON macht mit bei der Hetze der Covid19 Leugn...</td>\n",
       "      <td>lockerung</td>\n",
       "    </tr>\n",
       "    <tr>\n",
       "      <th>1</th>\n",
       "      <td>+++ Britische Forscher infizieren Freiwillige ...</td>\n",
       "      <td>infektion</td>\n",
       "    </tr>\n",
       "    <tr>\n",
       "      <th>2</th>\n",
       "      <td>Braucht es noch einen weiteren Nachweis, dass ...</td>\n",
       "      <td>infektion</td>\n",
       "    </tr>\n",
       "    <tr>\n",
       "      <th>3</th>\n",
       "      <td>Es sollte die Frage gestellt werden. Was ist d...</td>\n",
       "      <td>infektion</td>\n",
       "    </tr>\n",
       "    <tr>\n",
       "      <th>4</th>\n",
       "      <td>Es wird bis in den Januar hinein Untersuchunge...</td>\n",
       "      <td>infektion</td>\n",
       "    </tr>\n",
       "    <tr>\n",
       "      <th>...</th>\n",
       "      <td>...</td>\n",
       "      <td>...</td>\n",
       "    </tr>\n",
       "    <tr>\n",
       "      <th>3991</th>\n",
       "      <td>Ich halte die Freigabe trotz allem für vertret...</td>\n",
       "      <td>impfung</td>\n",
       "    </tr>\n",
       "    <tr>\n",
       "      <th>3992</th>\n",
       "      <td>Ich hoffe, dass das bald ein Ende hat. China b...</td>\n",
       "      <td>politik</td>\n",
       "    </tr>\n",
       "    <tr>\n",
       "      <th>3993</th>\n",
       "      <td>Merkel: \"Ein Virus, das uns alle trifft, lässt...</td>\n",
       "      <td>impfung</td>\n",
       "    </tr>\n",
       "    <tr>\n",
       "      <th>3994</th>\n",
       "      <td>Moin,  schon komisch, dass  Vereine in den unt...</td>\n",
       "      <td>lockerung</td>\n",
       "    </tr>\n",
       "    <tr>\n",
       "      <th>3995</th>\n",
       "      <td>In einem Land, in dem 60% der Bevölkerung repu...</td>\n",
       "      <td>politik</td>\n",
       "    </tr>\n",
       "  </tbody>\n",
       "</table>\n",
       "<p>3996 rows × 2 columns</p>\n",
       "</div>"
      ],
      "text/plain": [
       "                                                Comment      Topic\n",
       "0     SPON macht mit bei der Hetze der Covid19 Leugn...  lockerung\n",
       "1     +++ Britische Forscher infizieren Freiwillige ...  infektion\n",
       "2     Braucht es noch einen weiteren Nachweis, dass ...  infektion\n",
       "3     Es sollte die Frage gestellt werden. Was ist d...  infektion\n",
       "4     Es wird bis in den Januar hinein Untersuchunge...  infektion\n",
       "...                                                 ...        ...\n",
       "3991  Ich halte die Freigabe trotz allem für vertret...    impfung\n",
       "3992  Ich hoffe, dass das bald ein Ende hat. China b...    politik\n",
       "3993  Merkel: \"Ein Virus, das uns alle trifft, lässt...    impfung\n",
       "3994  Moin,  schon komisch, dass  Vereine in den unt...  lockerung\n",
       "3995  In einem Land, in dem 60% der Bevölkerung repu...    politik\n",
       "\n",
       "[3996 rows x 2 columns]"
      ]
     },
     "execution_count": 3,
     "metadata": {},
     "output_type": "execute_result"
    }
   ],
   "source": [
    "### Here we set the labels of the topics, in this case we have 7 labels for comments and 8 for articles\n",
    "dataset_topic = pd.read_csv(\"annotated_data/annotated_data_with_users_and_al_cleaned2check_final_topics.csv\", names=[\"ID\", \"Date\", \"Time\", \"Comment Level\", \"Username\", \"Opinion\", \"Sentiment\", \"Topic_comment\", \"Topic_article\", \"Comment\", \"Method\"], encoding=\"ISO-8859-1\")\n",
    "# label_to_id = {\"politik\" : 0, \"maßnahmen\" : 1, \"infektion\" : 2, \"impfung\": 3, \"lockdown\": 4, \"wirtschaft\":5, \"lockerung\":6, \"überblick\": 7}\n",
    "label_to_id = {x:y for y,x in enumerate(dataset_topic[\"Topic_comment\"].unique()) }\n",
    "#label_to_id = {\"politik\" : 0, \"maßnahmen\" : 1, \"infektion\" : 2, \"impfung\": 3, \"lockdown\": 4, \"wirtschaft\":5, \"lockerung\":6}\n",
    "# label_to_id = {\"positive\":0, \"negative\" : 1, \"neutral\": 2}\n",
    "print(label_to_id)\n",
    "# dataset_topic = pd.read_csv(\"annotated_data/annotated_data_with_users_and_al_cleanedArticleText.csv\", names=[\"ID\", \"Date\", \"Time\", \"Comment Level\", \"Username\", \"Opinion\", \"Sentiment\", \"Topic_comment\", \"Topic_article\", \"Comment\", \"Method\"], encoding=\"utf-8\")\n",
    "# dataset_topic = pd.read_csv(\"annotated_data/annotated_data_with_users_and_al_cleaned2check_final_topics.csv\", names=[\"ID\", \"Date\", \"Time\", \"Comment Level\", \"Username\", \"Opinion\", \"Sentiment\", \"Topic_comment\", \"Topic_article\", \"Comment\", \"Method\"], encoding=\"ISO-8859-1\")\n",
    "\n",
    "\n",
    "print(dataset_topic[\"Topic_comment\"].value_counts()[dataset_topic[\"Topic_comment\"].value_counts() < 200].index.to_list())\n",
    "print(dataset_topic[\"Topic_comment\"].value_counts())\n",
    "# dataset_topic = dataset_topic.loc[dataset_topic[\"Opinion\"].isin(label_to_id.keys())]\n",
    "dataset_topic = dataset_topic.loc[dataset_topic[\"Topic_comment\"].isin(label_to_id.keys())]\n",
    "# dataset_topic = dataset_topic.loc[dataset_topic[\"Topic_article\"].isin(label_to_id.keys())]\n",
    "print(dataset_topic)\n",
    "dataset_topic = dataset_topic[[\"Comment\", \"Topic_comment\"]]\n",
    "# dataset_topic = dataset_topic[[\"Comment\", \"Opinion\"]]\n",
    "# dataset_topic = dataset_topic[[\"Comment\", \"Topic_article\"]]\n",
    "\n",
    "# dataset_topic = dataset_topic.loc[dataset_topic[\"Topic_article\"].isin(label_to_id.keys())]\n",
    "dataset_topic = dataset_topic.loc[dataset_topic[\"Topic_comment\"].isin(label_to_id.keys())]\n",
    "# dataset_topic = dataset_topic.loc[dataset_topic[\"Opinion\"].isin(label_to_id.keys())]\n",
    "\n",
    "dataset_topic.columns = [\"Comment\", \"Topic\"]\n",
    "# dataset_topic.columns = [\"Comment\", \"Opinion\"]\n",
    "print(len(dataset_topic))\n",
    "df_train, df_test = np.split(dataset_topic.sample(frac=1, random_state=77), [int(.8*len(dataset_topic))])\n",
    "\n",
    "\n",
    "\n",
    "len(dataset_topic)\n",
    "dataset_topic.reset_index(drop=True, inplace=True)\n",
    "\n",
    "df_train.drop(df_train.loc[df_train[\"Comment\"].isnull()].index, axis = 0, inplace = True)\n",
    "# for x in df_train[\"Comment\"]:\n",
    "#     if type(x) != str:\n",
    "#         print(type(x), x)\n",
    "print(df_train[\"Topic\"].value_counts())\n",
    "dataset_topic\n"
   ]
  },
  {
   "cell_type": "code",
   "execution_count": null,
   "metadata": {},
   "outputs": [],
   "source": [
    "# This cell scrapes the articles for their header content\n",
    "\n",
    "label_to_id = {\"politik\" : 0, \"maßnahmen\" : 1, \"infektion\" : 2, \"impfung\": 3, \"lockdown\": 4, \"wirtschaft\":5, \"lockerung\":6, \"überblick\":7}\n",
    "dataset_topic = pd.read_csv(\"annotated_data/annotated_data_with_users_and_al_cleaned2check.csv\", names=[\"ID\", \"Date\", \"Time\", \"Comment Level\", \"Username\", \"Opinion\", \"Sentiment\", \"Topic_comment\", \"Topic_article\", \"Comment\", \"Method\"], encoding=\"ISO-8859-1\")\n",
    "dataset_topic = dataset_topic.loc[dataset_topic[\"Topic_article\"].isin(label_to_id.keys())]\n",
    "dataset_topic.reset_index(drop=True, inplace=True)\n",
    "for x in range(len(dataset_topic)):\n",
    "    print(x)\n",
    "\n",
    "    request = requests.get(\"https://www.spiegel.de/wissenschaft/medizin/corona-news-am-samstag-die-wichtigsten-entwicklungen-zu-sars-cov-2-und-covid-19-a-\" +dataset_topic.loc[int(x), \"ID\"])\n",
    "    soup = BeautifulSoup(request.content, \"html.parser\")\n",
    "    title = soup.find(\"title\").text\n",
    "    subtitle = soup.find(\"meta\", property=\"og:description\")[\"content\"]\n",
    "\n",
    "    dataset_topic.loc[x, \"Comment\"] = title + \" \" + subtitle\n",
    "\n",
    "dataset_topic\n"
   ]
  },
  {
   "cell_type": "code",
   "execution_count": 48,
   "metadata": {},
   "outputs": [],
   "source": [
    "dataset_topic[\"Comment\"][0]\n",
    "dataset_topic.to_csv(\"annotated_data/annotated_data_with_users_and_al_cleaned2check_article.csv\", encoding=\"utf-8\", index=False, header=False)"
   ]
  },
  {
   "cell_type": "code",
   "execution_count": 4,
   "metadata": {
    "executionInfo": {
     "elapsed": 8771,
     "status": "ok",
     "timestamp": 1657642992816,
     "user": {
      "displayName": "Sven",
      "userId": "16997037369850351210"
     },
     "user_tz": -120
    },
    "id": "Z0dkvjCeztof"
   },
   "outputs": [],
   "source": [
    "data_text = []\n",
    "data_labels = []\n",
    "text_train = []\n",
    "labels_train = []\n",
    "text_test = np.array([])\n",
    "labels_test = np.array([])\n",
    "\n",
    "\n",
    "tokenizer = AutoTokenizer.from_pretrained(\"bert-base-german-cased\")\n",
    "\n",
    "\n",
    "\n",
    "# For Topics Article\n",
    "# label_to_id = {\"politik\" : 0, \"maßnahmen\" : 1, \"infektion\" : 2, \"impfung\": 3, \"lockdown\": 4, \"wirtschaft\":5, \"lockerung\":6, \"überblick\":7 }\n",
    "# id_to_label = {0:\"politik\", 1:\"maßnahmen\", 2:\"infektion\", 3: \"impfung\", 4: \"lockdown\", 5:\"wirtschaft\", 6:\"lockerung\", 7:\"überblick\"}\n",
    "\n",
    "\n",
    "# For Topics Comment\n",
    "# label_to_id = {\"politik\" : 0, \"maßnahmen\" : 1, \"infektion\" : 2, \"impfung\": 3, \"lockdown\": 4, \"wirtschaft\":5, \"lockerung\":6}\n",
    "# id_to_label = {0:\"politik\", 1:\"maßnahmen\", 2:\"infektion\", 3: \"impfung\", 4: \"lockdown\", 5:\"wirtschaft\", 6:\"lockerung\"}\n",
    "\n",
    "# For Sentiment\n",
    "# label_to_id = {\"positive\":0, \"negative\" : 1, \"neutral\": 2}\n",
    "# id_to_label = {0:\"positive\", 1:\"negative\", 2 : \"neutral\"}\n",
    "\n",
    "\n",
    "label_to_id = {x:y for y,x in enumerate(dataset_topic[\"Topic\"].unique()) }\n",
    "id_to_label = {x:y for x,y in enumerate(dataset_topic[\"Topic\"].unique()) }\n",
    "\n",
    "\n",
    "### Here we create a training set that can be used to compare across different sizes of training data\n",
    "\n",
    "\n",
    "\n",
    "class Dataset(torch.utils.data.Dataset):\n",
    "\n",
    "    def __init__(self,dataframe):\n",
    "#         self.labels = [label_to_id[label] for label in dataframe[\"Topic\"] if label in [\"politik\", \"maßnahmen\", \"infektion\", \"impfung\", \"lockdown\", \"wirtschaft\", \"lockerung\", \"überblick\"]]\n",
    "        self.labels = [label_to_id[label] for label in dataframe[\"Topic\"] if label in label_to_id.keys()]\n",
    "        self.texts = [tokenizer(txt, padding =\"max_length\", max_length = 512, truncation=True, return_tensors=\"pt\") for txt in dataframe[\"Comment\"]]\n",
    "\n",
    "    def classes(self):\n",
    "        return self.labels\n",
    "\n",
    "    def __len__(self):\n",
    "        return len(self.labels)\n",
    "\n",
    "    def get_batch_labels(self, idx):\n",
    "        return np.array(self.labels[idx])\n",
    "\n",
    "    def get_batch_texts(self, idx):\n",
    "        return self.texts[idx]\n",
    "\n",
    "    def __getitem__(self, idx):\n",
    "\n",
    "        batch_texts = self.get_batch_texts(idx)\n",
    "        batch_labels = self.get_batch_labels(idx)\n",
    "\n",
    "        return batch_texts, batch_labels\n",
    "# ### Define test and train set\n",
    "# text_test = text_train[split_index+1:]\n",
    "# text_train = text_train[:split_index]\n",
    "# labels_test = labels_train[split_index+1:]\n",
    "# labels_train = labels_train[:split_index]\n",
    "\n",
    "\n",
    "### Replace label as int\n",
    "for idx, labels in enumerate(data_labels):\n",
    "    data_labels[idx] = label_to_id[labels]\n",
    "\n",
    "\n",
    "class ClassifierText(nn.Module):\n",
    "    def __init__(self, dropout = 0.5):\n",
    "        super(ClassifierText, self).__init__()\n",
    "\n",
    "        self.bert = BertModel.from_pretrained(\"bert-base-german-cased\")\n",
    "        self.dropout = nn.Dropout(dropout)\n",
    "        \n",
    "        # For Topic Article\n",
    "#         self.linear = nn.Linear(768, 8)\n",
    "        # For Topic Comment\n",
    "        self.linear = nn.Linear(768, 7)\n",
    "        # For Sentiment\n",
    "#         self.linear = nn.Linear(768, 3)\n",
    "#         self.relu = nn.ReLU()\n",
    "        # For SentimentOpinion\n",
    "#         self.linear = nn.Linear(768, 20)\n",
    "        self.relu = nn.ReLU()\n",
    "    def forward(self, input_id, mask):\n",
    "        _, pooled_output = self.bert(input_ids = input_id, attention_mask = mask, return_dict = False)\n",
    "        dropout_output = self.dropout(pooled_output)\n",
    "        linear_output = self.linear(dropout_output)\n",
    "        final_layer = self.relu(linear_output)\n",
    "\n",
    "        return final_layer\n",
    "\n",
    "\n"
   ]
  },
  {
   "cell_type": "code",
   "execution_count": null,
   "metadata": {
    "colab": {
     "base_uri": "https://localhost:8080/"
    },
    "executionInfo": {
     "elapsed": 3010422,
     "status": "ok",
     "timestamp": 1657646012251,
     "user": {
      "displayName": "Sven",
      "userId": "16997037369850351210"
     },
     "user_tz": -120
    },
    "id": "2mM5QCUMztog",
    "outputId": "e89acb8f-dc52-4e17-f910-90269fd9279b"
   },
   "outputs": [
    {
     "name": "stderr",
     "output_type": "stream",
     "text": [
      "Some weights of the model checkpoint at bert-base-german-cased were not used when initializing BertModel: ['cls.predictions.transform.dense.bias', 'cls.predictions.transform.dense.weight', 'cls.predictions.decoder.weight', 'cls.seq_relationship.bias', 'cls.predictions.transform.LayerNorm.weight', 'cls.predictions.transform.LayerNorm.bias', 'cls.predictions.bias', 'cls.seq_relationship.weight']\n",
      "- This IS expected if you are initializing BertModel from the checkpoint of a model trained on another task or with another architecture (e.g. initializing a BertForSequenceClassification model from a BertForPreTraining model).\n",
      "- This IS NOT expected if you are initializing BertModel from the checkpoint of a model that you expect to be exactly identical (initializing a BertForSequenceClassification model from a BertForSequenceClassification model).\n"
     ]
    }
   ],
   "source": [
    "def train(model, train_data, learning_rate, epochs):\n",
    "\n",
    "    train = Dataset(train_data)\n",
    "\n",
    "    train_dataloader = torch.utils.data.DataLoader(train, batch_size=8, shuffle=True)\n",
    "\n",
    "\n",
    "    use_cuda = torch.cuda.is_available()\n",
    "    device = torch.device(\"cuda:3\" if use_cuda else \"cpu\") #\"cuda:3\" if use_cuda else \"cpu\"\n",
    "    \n",
    "    criterion = nn.CrossEntropyLoss()\n",
    "    optimizer = Adam(model.parameters(), lr= learning_rate)\n",
    "\n",
    "    if use_cuda:\n",
    "        model = model.cuda()\n",
    "        criterion = criterion.cuda()\n",
    "\n",
    "    for epoch_num in range(epochs):\n",
    "\n",
    "        total_acc_train = 0\n",
    "        total_loss_train = 0\n",
    "\n",
    "        for train_input, train_label in tqdm(train_dataloader):\n",
    "\n",
    "            train_label = train_label.to(device)\n",
    "            mask = train_input['attention_mask'].to(device)\n",
    "            input_id = train_input['input_ids'].squeeze(1).to(device)\n",
    "\n",
    "            output = model(input_id, mask)\n",
    "            \n",
    "            batch_loss = criterion(output, train_label.long())\n",
    "            total_loss_train += batch_loss.item()\n",
    "            \n",
    "            acc = (output.argmax(dim=1) == train_label).sum().item()\n",
    "            total_acc_train += acc\n",
    "\n",
    "            model.zero_grad()\n",
    "            batch_loss.backward()\n",
    "            optimizer.step()\n",
    "        \n",
    "        total_acc_val = 0\n",
    "        total_loss_val = 0\n",
    "\n",
    "        print(\n",
    "            f'Epochs: {epoch_num + 1} | Train Loss: {total_loss_train / len(train_data): .3f} \\\n",
    "            | Train Accuracy: {total_acc_train / len(train_data): .3f}'\n",
    "        )    \n",
    "                  \n",
    "EPOCHS = 10\n",
    "model = ClassifierText()\n",
    "LR = 1e-6\n",
    "\n",
    "train(model, df_train, LR, EPOCHS)\n",
    "# for train_index, test_index in folds.split(data_text, data_labels):\n",
    "#     text_train, labels_train  = data_text[train_index], data_labels[train_index]\n",
    "#     text_test, labels_test  = data_text[test_index], data_labels[test_index]\n",
    "\n",
    "#     train_dict = {\"texts\": text_train, \"labels\" : labels_train}\n",
    "#     test_dict = {\"texts\": text_test, \"labels\" : labels_test}              \n",
    "#     train(model, text_train, LR, EPOCHS)"
   ]
  },
  {
   "cell_type": "code",
   "execution_count": 49,
   "metadata": {
    "colab": {
     "base_uri": "https://localhost:8080/"
    },
    "executionInfo": {
     "elapsed": 16543,
     "status": "ok",
     "timestamp": 1657648805013,
     "user": {
      "displayName": "Sven",
      "userId": "16997037369850351210"
     },
     "user_tz": -120
    },
    "id": "vd4YdVEwoRRZ",
    "outputId": "ba3309e6-471e-4f70-f1b9-319a8b6c39d7"
   },
   "outputs": [
    {
     "name": "stdout",
     "output_type": "stream",
     "text": [
      "{'lockerung': 0, 'infektion': 1, 'wirtschaft': 2, 'impfung': 3, 'maßnahmen': 4, 'politik': 5, 'lockdown': 6} {0: 'lockerung', 1: 'infektion', 2: 'wirtschaft', 3: 'impfung', 4: 'maßnahmen', 5: 'politik', 6: 'lockdown'}\n",
      "Test Accuracy:  0.667\n"
     ]
    }
   ],
   "source": [
    "def evaluate(model, test_data):\n",
    "\n",
    "    test = Dataset(test_data)\n",
    "\n",
    "    test_dataloader = torch.utils.data.DataLoader(test, batch_size=8)\n",
    "\n",
    "    use_cuda = torch.cuda.is_available()\n",
    "    device = torch.device(\"cuda\" if use_cuda else \"cpu\")\n",
    "\n",
    "    if use_cuda:\n",
    "\n",
    "        model = model.cuda()\n",
    "\n",
    "    total_acc_test = 0\n",
    "    with torch.no_grad():\n",
    "\n",
    "        for test_input, test_label in test_dataloader:\n",
    "\n",
    "              test_label = test_label.to(device)\n",
    "              mask = test_input['attention_mask'].to(device)\n",
    "              input_id = test_input['input_ids'].squeeze(1).to(device)\n",
    "\n",
    "              output = model(input_id, mask)\n",
    "\n",
    "              acc = (output.argmax(dim=1) == test_label).sum().item()\n",
    "              \n",
    "              total_acc_test += acc\n",
    "    \n",
    "    print(f'Test Accuracy: {total_acc_test / len(test_data): .3f}')\n",
    "df_test.drop(df_test.loc[df_test[\"Comment\"].isnull()].index, axis = 0, inplace = True)\n",
    "evaluate(model, df_test)\n",
    "\n"
   ]
  },
  {
   "cell_type": "code",
   "execution_count": 59,
   "metadata": {},
   "outputs": [],
   "source": [
    "torch.save(model.state_dict(),\"Model_CommentArticle.pt\")"
   ]
  },
  {
   "cell_type": "code",
   "execution_count": 7,
   "metadata": {
    "colab": {
     "base_uri": "https://localhost:8080/",
     "height": 183
    },
    "executionInfo": {
     "elapsed": 710,
     "status": "error",
     "timestamp": 1657646715800,
     "user": {
      "displayName": "Sven",
      "userId": "16997037369850351210"
     },
     "user_tz": -120
    },
    "id": "L27OLuHDcKSJ",
    "outputId": "ce8412c3-d43f-44b1-e1a1-8c3ca39a929e"
   },
   "outputs": [],
   "source": [
    "model = ClassifierText()\n",
    "model.load_state_dict(torch.load(\"Model_ArticleTextFull.pt\"))\n",
    "use_cuda = torch.cuda.is_available()\n",
    "device = torch.device(\"cuda\" if use_cuda else \"cpu\")\n",
    "model = model.to(device)"
   ]
  },
  {
   "cell_type": "code",
   "execution_count": 52,
   "metadata": {
    "colab": {
     "base_uri": "https://localhost:8080/"
    },
    "executionInfo": {
     "elapsed": 15911,
     "status": "ok",
     "timestamp": 1657648854443,
     "user": {
      "displayName": "Sven",
      "userId": "16997037369850351210"
     },
     "user_tz": -120
    },
    "id": "BUCrLvWN8QPa",
    "outputId": "3485689b-da3b-4e3f-8f14-0125f2dbe379"
   },
   "outputs": [
    {
     "name": "stdout",
     "output_type": "stream",
     "text": [
      "{'lockerung': 0, 'infektion': 1, 'wirtschaft': 2, 'impfung': 3, 'maßnahmen': 4, 'politik': 5, 'lockdown': 6} {0: 'lockerung', 1: 'infektion', 2: 'wirtschaft', 3: 'impfung', 4: 'maßnahmen', 5: 'politik', 6: 'lockdown'}\n",
      "Test Accuracy:  0.665\n"
     ]
    }
   ],
   "source": [
    "geladenes_model = model\n",
    "evaluate(geladenes_model, df_test)"
   ]
  },
  {
   "cell_type": "code",
   "execution_count": 58,
   "metadata": {
    "colab": {
     "base_uri": "https://localhost:8080/"
    },
    "executionInfo": {
     "elapsed": 7401,
     "status": "ok",
     "timestamp": 1657651020014,
     "user": {
      "displayName": "Sven",
      "userId": "16997037369850351210"
     },
     "user_tz": -120
    },
    "id": "KR4llze89wQA",
    "outputId": "61d29a3e-5a0e-47ca-97e8-af64ddc8199d"
   },
   "outputs": [
    {
     "name": "stdout",
     "output_type": "stream",
     "text": [
      "0.6619047619047619\n",
      "{'lockerung': 0.0, 'infektion': 0.6987951807228916, 'wirtschaft': 0.7777777777777778, 'impfung': 0.84, 'maßnahmen': 0.496, 'politik': 0.7439024390243902, 'lockdown': 0.4444444444444444}\n",
      "politik       164\n",
      "maßnahmen     125\n",
      "impfung       100\n",
      "infektion      83\n",
      "wirtschaft     81\n",
      "lockdown       63\n",
      "lockerung      14\n",
      "Name: Topic, dtype: int64\n"
     ]
    }
   ],
   "source": [
    "from numpy.ma.core import argmax\n",
    "from transformers import TextClassificationPipeline\n",
    "\n",
    "use_cuda = torch.cuda.is_available()\n",
    "\n",
    "device = torch.device(\"cuda\" if use_cuda else \"cpu\")\n",
    "\n",
    "if use_cuda:\n",
    "\n",
    "    mein_model = geladenes_model.cuda()\n",
    "\n",
    "# correct_per_topic = {\"politik\" : 0, \"maßnahmen\" : 0, \"infektion\" : 0, \"impfung\": 0, \"lockdown\": 0, \"wirtschaft\":0, \"lockerung\":0, \"überblick\":0}\n",
    "# correct_per_topic = {\"politik\" : 0, \"maßnahmen\" : 0, \"infektion\" : 0, \"impfung\": 0, \"lockdown\": 0, \"wirtschaft\":0, \"lockerung\":0}\n",
    "correct_per_topic = {x:0 for x in label_to_id.keys()}\n",
    "true = 0\n",
    "with torch.no_grad():\n",
    "\n",
    "  for _, sample in df_test.iterrows():\n",
    "    input_ids = tokenizer(sample[\"Comment\"], return_tensors=\"pt\", truncation=True)[\"input_ids\"].to(device)\n",
    "\n",
    "    masks = tokenizer(sample[\"Comment\"], return_tensors=\"pt\", truncation=True)[\"attention_mask\"].to(device)\n",
    "    \n",
    "    prediction = model( input_ids, masks)\n",
    " \n",
    "    class_pred = np.argmax(prediction.cpu()).item()\n",
    "    \n",
    "    topic = label_to_id[sample[\"Topic\"]]\n",
    "#     topic = label_to_id[sample[\"Sentiment\"]]\n",
    "\n",
    "    #print(class_pred, topic)\n",
    "    \n",
    "    \n",
    "    if class_pred == topic:\n",
    "      true+= 1\n",
    "      correct_per_topic[id_to_label[topic]] += 1\n",
    "\n",
    "\n",
    "print(true/len(df_test))\n",
    "\n",
    "for topic in df_test[\"Topic\"].unique():\n",
    "    correct_per_topic[topic] /= df_test[\"Topic\"].value_counts()[topic]\n",
    "\n",
    "    \n",
    "# for sentiment in df_test[\"Sentiment\"].unique():\n",
    "#   correct_per_topic[sentiment] /= df_test[\"Sentiment\"].value_counts()[sentiment]\n",
    "\n",
    "#     prediction = model(mask=masks, input_id=input_ids)\n",
    "\n",
    "#     topic = np.argmax(prediction)\n",
    "\n",
    "#     topic\n",
    "print(correct_per_topic)\n",
    "# print(df_train[\"Topic\"].value_counts())\n",
    "print(df_test[\"Topic\"].value_counts())"
   ]
  },
  {
   "cell_type": "code",
   "execution_count": 33,
   "metadata": {
    "colab": {
     "base_uri": "https://localhost:8080/",
     "height": 35
    },
    "executionInfo": {
     "elapsed": 1075,
     "status": "ok",
     "timestamp": 1657648113975,
     "user": {
      "displayName": "Sven",
      "userId": "16997037369850351210"
     },
     "user_tz": -120
    },
    "id": "1wTZyqi0LW68",
    "outputId": "1402fa31-83bd-4cde-8c7a-a41e325f6cd0"
   },
   "outputs": [
    {
     "name": "stdout",
     "output_type": "stream",
     "text": [
      "neutral     1543\n",
      "negative    1511\n",
      "positive     142\n",
      "Name: Sentiment, dtype: int64\n"
     ]
    }
   ],
   "source": [
    "print(df_train[\"Sentiment\"].value_counts())"
   ]
  },
  {
   "cell_type": "code",
   "execution_count": null,
   "metadata": {
    "scrolled": true
   },
   "outputs": [],
   "source": [
    "pd.set_option(\"max_rows\", None)\n",
    "meine_daten = pd.read_csv(\"annotated_data/annotated_data_with_users_and_al_cleaned2x.csv\", names=[\"ID\", \"Date\", \"Time\", \"Comment Level\", \"Username\", \"Opinion\", \"Sentiment\", \"topic_comment\", \"Topic_article\", \"Comment\", \"Method\"], encoding=\"ISO-8859-1\", header=None)\n",
    "meine_daten.loc[meine_daten[\"Topic_article\"] == \"intensivstation\", \"Topic_article\"] = \"krankenhaus\"\n",
    "meine_daten.loc[meine_daten[\"Topic_article\"] == \"homeoffice\", \"Topic_article\"] = \"arbeit\"\n",
    "meine_daten.loc[meine_daten[\"Topic_article\"] == \"schule\", \"Topic_article\"] = \"maßnahmen\"\n",
    "meine_daten.loc[meine_daten[\"Topic_article\"] == \"reiseverbot\", \"Topic_article\"] = \"reise\"\n",
    "meine_daten.loc[meine_daten[\"Topic_article\"] == \"quarantäne\", \"Topic_article\"] = \"maßnahmen\"\n",
    "meine_daten.loc[meine_daten[\"Topic_article\"] == \"schulschließung\", \"Topic_article\"] = \"maßnahmen\"\n",
    "meine_daten.loc[meine_daten[\"Topic_article\"] == \"demo\", \"Topic_article\"] = \"demos\"\n",
    "meine_daten.loc[meine_daten[\"Topic_article\"] == \"warnapp\", \"Topic_article\"] = \"maßnahmen\"\n",
    "meine_daten.loc[meine_daten[\"Topic_article\"] == \"intensivstationen\", \"Topic_article\"] = \"krankenhaus\"\n",
    "meine_daten.loc[meine_daten[\"Topic_article\"] == \"lockerungen\", \"Topic_article\"] = \"lockerung\"\n",
    "meine_daten.loc[meine_daten[\"Topic_article\"] == \"konjunktur\", \"Topic_article\"] = \"wirtschaft\"\n",
    "meine_daten.loc[meine_daten[\"Topic_article\"] == \"schulschliessung\", \"Topic_article\"] = \"maßnahmen\"\n",
    "meine_daten.loc[meine_daten[\"Topic_article\"] == \"inzidenz\", \"Topic_article\"] = \"infektion\"\n",
    "meine_daten.loc[meine_daten[\"Topic_article\"] == \"kontaktbeschränkung\", \"Topic_article\"] = \"maßnahmen\"\n",
    "meine_daten.loc[meine_daten[\"Topic_article\"] == \"schnelltests\", \"Topic_article\"] = \"tests\"\n",
    "meine_daten.loc[meine_daten[\"Topic_article\"] == \"verschärfungen\", \"Topic_article\"] = \"maßnahmen\"\n",
    "meine_daten.loc[meine_daten[\"Topic_article\"] == \"intesivstation\", \"Topic_article\"] = \"krankenhaus\"\n",
    "meine_daten.loc[meine_daten[\"Topic_article\"] == \"maskenplficht\", \"Topic_article\"] = \"maskenpflicht\"\n",
    "meine_daten.loc[meine_daten[\"Topic_article\"] == \"fußball\", \"Topic_article\"] = \"sport\"\n",
    "meine_daten = meine_daten[meine_daten.Topic_article != \"XXX\"]\n",
    "meine_daten.to_csv(\"annotated_data/annotated_data_with_users_and_al_cleaned2x.csv\", header=None, index=None)\n",
    "meine_daten[\"Topic_article\"].value_counts()"
   ]
  },
  {
   "cell_type": "code",
   "execution_count": null,
   "metadata": {
    "colab": {
     "base_uri": "https://localhost:8080/",
     "height": 35
    },
    "executionInfo": {
     "elapsed": 7787,
     "status": "ok",
     "timestamp": 1657623318552,
     "user": {
      "displayName": "Sven",
      "userId": "16997037369850351210"
     },
     "user_tz": -120
    },
    "id": "F5SMUo_jztoh",
    "outputId": "e2d07260-53a1-43d2-e131-7c73b44ea93c"
   },
   "outputs": [],
   "source": [
    "import pandas as pd\n",
    "volle_daten= pd.read_csv(\"annotated_data/annotated_data_with_users_and_al_cleaned2check.csv\", names=[\"ID\", \"Date\", \"Time\", \"Comment Level\", \"Username\", \"Opinion\", \"Sentiment\", \"topic_comment\", \"Topic_article\", \"Comment\", \"Method\"], encoding=\"ISO-8859-1\", header=None)\n",
    "volle_daten.topic_comment.value_counts()"
   ]
  }
 ],
 "metadata": {
  "accelerator": "GPU",
  "colab": {
   "name": "eintest.ipynb",
   "provenance": []
  },
  "gpuClass": "standard",
  "kernelspec": {
   "display_name": "Python 3 (ipykernel)",
   "language": "python",
   "name": "python3"
  },
  "language_info": {
   "codemirror_mode": {
    "name": "ipython",
    "version": 3
   },
   "file_extension": ".py",
   "mimetype": "text/x-python",
   "name": "python",
   "nbconvert_exporter": "python",
   "pygments_lexer": "ipython3",
   "version": "3.9.12"
  },
  "vscode": {
   "interpreter": {
    "hash": "fb0ed09b01ac7e66b2ee8fd1b727dbc61e234ad6836f9832d0e5faf71aa1bb7a"
   }
  }
 },
 "nbformat": 4,
 "nbformat_minor": 1
}
