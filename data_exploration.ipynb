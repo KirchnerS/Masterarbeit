{
 "cells": [
  {
   "cell_type": "code",
   "execution_count": 4,
   "metadata": {},
   "outputs": [],
   "source": [
    "import pandas as pd\n",
    "from collections import defaultdict\n",
    "import matplotlib.pyplot as plt\n",
    "from matplotlib.ticker import MaxNLocator\n"
   ]
  },
  {
   "cell_type": "code",
   "execution_count": 9,
   "metadata": {},
   "outputs": [],
   "source": [
    "meine_daten = pd.read_csv(\"annotated_data/cleaned_annotated_data_training_800.txt\", names=[\"ID\", \"Date\", \"Time\", \"Comment Level\", \"Username\", \"Opinion\", \"Sentiment\", \"topic_comment\", \"Topic_article\", \"comment\"], delimiter=\"\\t\")\n",
    "\n"
   ]
  },
  {
   "cell_type": "code",
   "execution_count": 10,
   "metadata": {},
   "outputs": [
    {
     "name": "stderr",
     "output_type": "stream",
     "text": [
      "D:\\Program Files (x86)\\Miniconda3\\envs\\Masterarbeit\\lib\\site-packages\\pandas\\core\\indexing.py:1773: SettingWithCopyWarning: \n",
      "A value is trying to be set on a copy of a slice from a DataFrame.\n",
      "Try using .loc[row_indexer,col_indexer] = value instead\n",
      "\n",
      "See the caveats in the documentation: https://pandas.pydata.org/pandas-docs/stable/user_guide/indexing.html#returning-a-view-versus-a-copy\n",
      "  self._setitem_single_column(ilocs[0], value, pi)\n",
      "D:\\Program Files (x86)\\Miniconda3\\envs\\Masterarbeit\\lib\\site-packages\\pandas\\core\\indexing.py:1817: SettingWithCopyWarning: \n",
      "A value is trying to be set on a copy of a slice from a DataFrame.\n",
      "Try using .loc[row_indexer,col_indexer] = value instead\n",
      "\n",
      "See the caveats in the documentation: https://pandas.pydata.org/pandas-docs/stable/user_guide/indexing.html#returning-a-view-versus-a-copy\n",
      "  self._setitem_single_column(loc, value, pi)\n"
     ]
    }
   ],
   "source": [
    "Nan = meine_daten[meine_daten[\"comment\"].isnull()]\n",
    "Nan.loc[:, \"comment\"] = Nan.loc[:, \"Topic_article\"]\n",
    "Nan.loc[:, \"Topic_article\"] = \"nan\"\n"
   ]
  },
  {
   "cell_type": "code",
   "execution_count": 12,
   "metadata": {},
   "outputs": [
    {
     "name": "stdout",
     "output_type": "stream",
     "text": [
      "                                       ID        Date   Time  Comment Level  \\\n",
      "407  dc560e1e-1b01-4bca-aac5-d1b5b3bf0e45  2021-02-13  16:46            0.0   \n",
      "569  c449c319-bd29-47f8-87fb-9ec76d99c967  2021-03-15  15:11            0.0   \n",
      "624  ad7ef84e-7733-46d8-8960-f09096480a50  2020-12-12  15:34            0.0   \n",
      "\n",
      "             Username  Opinion Sentiment topic_comment Topic_article  \\\n",
      "407  Markus-vvb8EOEWg  neutral   neutral         tests     überblick   \n",
      "569  Markus-vvb8EOEWg  neutral   neutral       impfung       impfung   \n",
      "624  Markus-vvb8EOEWg  neutral   neutral      lockdown     überblick   \n",
      "\n",
      "                                               comment  \n",
      "407  Ich frage mich wie diese Schnelltests geprüft ...  \n",
      "569  Es gibt zwei Möglichkeiten. Erstens, die Aussa...  \n",
      "624  Ein »kompletter Lockdown« muss auch Gottesdien...  \n",
      "defaultdict(<class 'list'>, {'knielang': ['neutral', 'negative', 'negative', 'neutral', 'negative']})\n",
      "defaultdict(<class 'list'>, {'knielang': ['neutral', 'negative', 'negative', 'neutral', 'negative'], 'Coraggioso-Ir6WKaaMR': ['negative', 'negative', 'negative', 'neutral']})\n",
      "defaultdict(<class 'list'>, {'knielang': ['neutral', 'negative', 'negative', 'neutral', 'negative'], 'Coraggioso-Ir6WKaaMR': ['negative', 'negative', 'negative', 'neutral'], 'Pet2020': ['negative', 'negative', 'negative']})\n",
      "defaultdict(<class 'list'>, {'knielang': ['neutral', 'negative', 'negative', 'neutral', 'negative'], 'Coraggioso-Ir6WKaaMR': ['negative', 'negative', 'negative', 'neutral'], 'Pet2020': ['negative', 'negative', 'negative'], 'Dirk-H-xIsGPZR': ['negative', 'negative', 'negative']})\n",
      "defaultdict(<class 'list'>, {'knielang': ['neutral', 'negative', 'negative', 'neutral', 'negative'], 'Coraggioso-Ir6WKaaMR': ['negative', 'negative', 'negative', 'neutral'], 'Pet2020': ['negative', 'negative', 'negative'], 'Dirk-H-xIsGPZR': ['negative', 'negative', 'negative'], 'HansUlrich': ['neutral', 'negative', 'neutral']})\n",
      "defaultdict(<class 'list'>, {'knielang': ['neutral', 'negative', 'negative', 'neutral', 'negative'], 'Coraggioso-Ir6WKaaMR': ['negative', 'negative', 'negative', 'neutral'], 'Pet2020': ['negative', 'negative', 'negative'], 'Dirk-H-xIsGPZR': ['negative', 'negative', 'negative'], 'HansUlrich': ['neutral', 'negative', 'neutral'], 'Markus-vvb8EOEWg': ['neutral', 'neutral', 'neutral']})\n",
      "defaultdict(<class 'list'>, {'knielang': ['neutral', 'negative', 'negative', 'neutral', 'negative'], 'Coraggioso-Ir6WKaaMR': ['negative', 'negative', 'negative', 'neutral'], 'Pet2020': ['negative', 'negative', 'negative'], 'Dirk-H-xIsGPZR': ['negative', 'negative', 'negative'], 'HansUlrich': ['neutral', 'negative', 'neutral'], 'Markus-vvb8EOEWg': ['neutral', 'neutral', 'neutral'], 'GuckyCD': ['negative', 'neutral', 'negative']})\n",
      "defaultdict(<class 'list'>, {'knielang': ['neutral', 'negative', 'negative', 'neutral', 'negative'], 'Coraggioso-Ir6WKaaMR': ['negative', 'negative', 'negative', 'neutral'], 'Pet2020': ['negative', 'negative', 'negative'], 'Dirk-H-xIsGPZR': ['negative', 'negative', 'negative'], 'HansUlrich': ['neutral', 'negative', 'neutral'], 'Markus-vvb8EOEWg': ['neutral', 'neutral', 'neutral'], 'GuckyCD': ['negative', 'neutral', 'negative'], 'Hans-hrmkpk6ZR': ['negative', 'negative', 'neutral']})\n",
      "defaultdict(<class 'list'>, {'knielang': ['neutral', 'negative', 'negative', 'neutral', 'negative'], 'Coraggioso-Ir6WKaaMR': ['negative', 'negative', 'negative', 'neutral'], 'Pet2020': ['negative', 'negative', 'negative'], 'Dirk-H-xIsGPZR': ['negative', 'negative', 'negative'], 'HansUlrich': ['neutral', 'negative', 'neutral'], 'Markus-vvb8EOEWg': ['neutral', 'neutral', 'neutral'], 'GuckyCD': ['negative', 'neutral', 'negative'], 'Hans-hrmkpk6ZR': ['negative', 'negative', 'neutral'], 'Karl-Ernst -5k_i_MEWg': ['negative', 'neutral', 'negative']})\n",
      "defaultdict(<class 'list'>, {'knielang': ['neutral', 'negative', 'negative', 'neutral', 'negative'], 'Coraggioso-Ir6WKaaMR': ['negative', 'negative', 'negative', 'neutral'], 'Pet2020': ['negative', 'negative', 'negative'], 'Dirk-H-xIsGPZR': ['negative', 'negative', 'negative'], 'HansUlrich': ['neutral', 'negative', 'neutral'], 'Markus-vvb8EOEWg': ['neutral', 'neutral', 'neutral'], 'GuckyCD': ['negative', 'neutral', 'negative'], 'Hans-hrmkpk6ZR': ['negative', 'negative', 'neutral'], 'Karl-Ernst -5k_i_MEWg': ['negative', 'neutral', 'negative'], 'Werner-iFz9kNPWR': ['neutral', 'neutral', 'negative']})\n",
      "knielang ['neutral', 'negative', 'negative', 'neutral', 'negative']\n",
      "Coraggioso-Ir6WKaaMR ['negative', 'negative', 'negative', 'neutral']\n",
      "Pet2020 ['negative', 'negative', 'negative']\n",
      "Dirk-H-xIsGPZR ['negative', 'negative', 'negative']\n",
      "HansUlrich ['neutral', 'negative', 'neutral']\n",
      "Markus-vvb8EOEWg ['neutral', 'neutral', 'neutral']\n",
      "GuckyCD ['negative', 'neutral', 'negative']\n",
      "Hans-hrmkpk6ZR ['negative', 'negative', 'neutral']\n",
      "Karl-Ernst -5k_i_MEWg ['negative', 'neutral', 'negative']\n",
      "Werner-iFz9kNPWR ['neutral', 'neutral', 'negative']\n",
      "dict_keys(['knielang', 'Coraggioso-Ir6WKaaMR', 'Pet2020', 'Dirk-H-xIsGPZR', 'HansUlrich', 'Markus-vvb8EOEWg', 'GuckyCD', 'Hans-hrmkpk6ZR', 'Karl-Ernst -5k_i_MEWg', 'Werner-iFz9kNPWR'])\n"
     ]
    },
    {
     "data": {
      "image/png": "[encoded data removed]",
      "text/plain": [
       "<Figure size 432x288 with 1 Axes>"
      ]
     },
     "metadata": {
      "needs_background": "light"
     },
     "output_type": "display_data"
    },
    {
     "data": {
      "image/png": "[encoded data removed]",
      "text/plain": [
       "<Figure size 432x288 with 1 Axes>"
      ]
     },
     "metadata": {
      "needs_background": "light"
     },
     "output_type": "display_data"
    },
    {
     "data": {
      "image/png": "[encoded data removed]",
      "text/plain": [
       "<Figure size 432x288 with 1 Axes>"
      ]
     },
     "metadata": {
      "needs_background": "light"
     },
     "output_type": "display_data"
    },
    {
     "data": {
      "image/png": "[encoded data removed]",
      "text/plain": [
       "<Figure size 432x288 with 1 Axes>"
      ]
     },
     "metadata": {
      "needs_background": "light"
     },
     "output_type": "display_data"
    },
    {
     "data": {
      "image/png": "[encoded data removed]",
      "text/plain": [
       "<Figure size 432x288 with 1 Axes>"
      ]
     },
     "metadata": {
      "needs_background": "light"
     },
     "output_type": "display_data"
    },
    {
     "data": {
      "image/png": "[encoded data removed]",
      "text/plain": [
       "<Figure size 432x288 with 1 Axes>"
      ]
     },
     "metadata": {
      "needs_background": "light"
     },
     "output_type": "display_data"
    },
    {
     "data": {
      "image/png": "[encoded data removed]",
      "text/plain": [
       "<Figure size 432x288 with 1 Axes>"
      ]
     },
     "metadata": {
      "needs_background": "light"
     },
     "output_type": "display_data"
    },
    {
     "data": {
      "image/png": "[encoded data removed]",
      "text/plain": [
       "<Figure size 432x288 with 1 Axes>"
      ]
     },
     "metadata": {
      "needs_background": "light"
     },
     "output_type": "display_data"
    },
    {
     "data": {
      "image/png": "[encoded data removed]",
      "text/plain": [
       "<Figure size 432x288 with 1 Axes>"
      ]
     },
     "metadata": {
      "needs_background": "light"
     },
     "output_type": "display_data"
    },
    {
     "data": {
      "image/png": "[encoded data removed]",
      "text/plain": [
       "<Figure size 432x288 with 1 Axes>"
      ]
     },
     "metadata": {
      "needs_background": "light"
     },
     "output_type": "display_data"
    }
   ],
   "source": [
    "\n",
    "\n",
    "\n",
    "# stores username and the corresponding sentiment\n",
    "sentiment_person = defaultdict(list)\n",
    "\n",
    "\n",
    "meine_daten.update(Nan)\n",
    "pd.set_option(\"display.max_rows\", None)\n",
    "# print(meine_daten.Username.value_counts())\n",
    "print(meine_daten.loc[meine_daten.Username == \"Markus-vvb8EOEWg\"])\n",
    "sentiment_verteilung = list(meine_daten.Sentiment.value_counts())\n",
    "opinion_verteilung = list(meine_daten.Opinion.value_counts())\n",
    "\n",
    "for username in meine_daten.Username.value_counts().index[:10]:\n",
    "    liste = list(meine_daten.loc[meine_daten.Username == username][\"Sentiment\"])\n",
    "    sentiment_person[username] = liste\n",
    "    print(sentiment_person)\n",
    "\n",
    "for key, value in sentiment_person.items():\n",
    "    print(key, value)\n",
    "    sentiment_person[key] = dict((l, value.count(l)) for l in set(value))\n",
    "\n",
    "\n",
    "print(sentiment_person.keys())\n",
    "\n",
    "for user in sentiment_person:\n",
    "    ax = plt.figure().gca()\n",
    "    ax.yaxis.set_major_locator(MaxNLocator(integer=True))\n",
    "    names = list(sentiment_person[user].keys()) \n",
    "    values = list(sentiment_person[user].values())\n",
    "    plt.title(user)\n",
    "    plt.bar(range(len(sentiment_person[user])), values, tick_label = names)\n",
    "    plt.show()"
   ]
  },
  {
   "cell_type": "code",
   "execution_count": 31,
   "metadata": {},
   "outputs": [
    {
     "name": "stdout",
     "output_type": "stream",
     "text": [
      "knielang Coraggioso-Ir6WKaaMR Pet2020 Dirk-H-xIsGPZR HansUlrich Markus-vvb8EOEWg GuckyCD Hans-hrmkpk6ZR Karl-Ernst -5k_i_MEWg Werner-iFz9kNPWR\n"
     ]
    }
   ],
   "source": [
    "print(*sentiment_person)"
   ]
  },
  {
   "cell_type": "code",
   "execution_count": 14,
   "metadata": {},
   "outputs": [
    {
     "data": {
      "image/png": "[encoded data removed]",
      "text/plain": [
       "<Figure size 432x288 with 1 Axes>"
      ]
     },
     "metadata": {
      "needs_background": "light"
     },
     "output_type": "display_data"
    }
   ],
   "source": [
    "import matplotlib.pyplot as plt\n",
    "sentiment = [\"negative\", \"neutral\", \"positive\"]\n",
    "\n",
    "\n",
    "s = pd.Series(\n",
    "    opinion_verteilung,\n",
    "    index = sentiment\n",
    ")\n",
    "\n",
    "\n",
    "plt.title(\"Distribution of sentiment annotations across labels\")\n",
    "plt.ylabel('Count')\n",
    "plt.xlabel('Sentiment')\n",
    "\n",
    "\n",
    "ax = plt.gca()\n",
    "\n",
    "my_colors = [\"tab:red\", \"tab:cyan\",\"tab:green\"]\n",
    "\n",
    "s.plot(kind=\"bar\",\n",
    "       color=my_colors)\n",
    "\n",
    "plt.show()\n"
   ]
  },
  {
   "cell_type": "code",
   "execution_count": 15,
   "metadata": {},
   "outputs": [
    {
     "data": {
      "image/png": "[encoded data removed]",
      "text/plain": [
       "<Figure size 432x288 with 2 Axes>"
      ]
     },
     "metadata": {
      "needs_background": "light"
     },
     "output_type": "display_data"
    }
   ],
   "source": [
    "fig, (ax1, ax2) = plt.subplots(2)\n",
    "\n",
    "fig.tight_layout()\n",
    "\n",
    "ax1.bar(sentiment, opinion_verteilung, color= [\"#990000\", \"#003380\",\"#006600\"])\n",
    "\n",
    "ax2.bar(sentiment, sentiment_verteilung, color= [\"#990000\", \"#003380\",\"#006600\"])\n",
    "\n",
    "ax1.set_title(\"Sentiment\", fontstyle=\"italic\")\n",
    "ax2.set_title(\"Opinion\", fontstyle=\"italic\")\n",
    "\n",
    "plt.savefig(\"Distribution_Sentiment_Opinion\")"
   ]
  },
  {
   "cell_type": "code",
   "execution_count": 29,
   "metadata": {},
   "outputs": [
    {
     "name": "stdout",
     "output_type": "stream",
     "text": [
      "0.4\n",
      "0.396\n",
      "0.204\n",
      "102\n"
     ]
    }
   ],
   "source": [
    "print(opinion_verteilung[0] / sum(opinion_verteilung))\n",
    "\n",
    "print(opinion_verteilung[1] / sum(opinion_verteilung))\n",
    "\n",
    "print(opinion_verteilung[2] / sum(opinion_verteilung))\n",
    "\n",
    "print(opinion_verteilung[2])\n"
   ]
  },
  {
   "cell_type": "code",
   "execution_count": null,
   "metadata": {},
   "outputs": [],
   "source": [
    "import numpy as np\n",
    "\n",
    "meine_daten.loc[(meine_daten.Opinion == \"positive\") & (meine_daten.Sentiment == \"negative\")]\n",
    "\n",
    "# meine_daten.Sentiment.value_counts()\n",
    "\n",
    "# meine_daten.loc[(meine_daten.Sentiment == \"positive\")]"
   ]
  },
  {
   "cell_type": "code",
   "execution_count": 3,
   "metadata": {},
   "outputs": [],
   "source": [
    "import sklearn.metrics as metrics"
   ]
  },
  {
   "cell_type": "markdown",
   "metadata": {},
   "source": [
    "### Cohens Kappa\n",
    "\n",
    "Formula as follows:\n",
    "\n",
    "$z = \\frac{p_o-p_e}{1-p_e}$\n",
    "\n",
    "Cohen's kappa coefficient (κ) is a statistic that is used to measure inter-rater reliability (...)\n",
    "\n",
    "https://en.wikipedia.org/wiki/Cohen%27s_kappa"
   ]
  },
  {
   "cell_type": "code",
   "execution_count": 4,
   "metadata": {},
   "outputs": [
    {
     "name": "stdout",
     "output_type": "stream",
     "text": [
      "['negative', 'neutral', 'neutral', 'negative', 'negative', 'positive', 'negative', 'negative', 'negative', 'neutral', 'negative', 'positive', 'negative', 'negative', 'negative', 'negative', 'neutral', 'neutral', 'neutral', 'neutral', 'negative', 'negative', 'negative', 'negative', 'neutral', 'negative', 'negative', 'neutral', 'negative', 'negative', 'neutral', 'negative', 'negative', 'negative', 'neutral', 'positive', 'negative', 'neutral', 'negative', 'neutral', 'negative', 'negative', 'neutral', 'negative', 'neutral', 'neutral', 'negative', 'negative', 'neutral', 'negative', 'negative', 'negative', 'neutral', 'neutral', 'negative', 'neutral', 'negative', 'neutral', 'negative', 'neutral']\n",
      "['negative', 'neutral', 'neutral', 'negative', 'negative', 'positive', 'negative', 'negative', 'negative', 'neutral', 'negative', 'positive', 'negative', 'negative', 'negative', 'negative', 'negative', 'neutral', 'negative', 'neutral', 'negative', 'negative', 'negative', 'negative', 'neutral', 'negative', 'neutral', 'neutral', 'negative', 'neutral', 'neutral', 'neutral', 'neutral', 'negative', 'neutral', 'positive', 'negative', 'neutral', 'neutral', 'neutral', 'negative', 'negative', 'neutral', 'neutral', 'neutral', 'negative', 'negative', 'negative', 'negative', 'negative', 'neutral', 'negative', 'neutral', 'neutral', 'negative', 'neutral', 'neutral', 'neutral', 'negative', 'neutral']\n",
      "0.4782608695652174\n"
     ]
    },
    {
     "data": {
      "text/plain": [
       "0.6277145811789038"
      ]
     },
     "execution_count": 4,
     "metadata": {},
     "output_type": "execute_result"
    }
   ],
   "source": [
    "sven_opinion = []\n",
    "vali_opinion = []\n",
    "\n",
    "sven_sentiment = []\n",
    "vali_sentiment = []\n",
    "\n",
    "# Here we are reading in the data for cohens kappa\n",
    " \n",
    "with open (\"annotated_data/svens_agreement.txt\") as sven:\n",
    "    for line in sven:\n",
    "        sven_opinion.append(line.split(\"\\t\")[5])\n",
    "        sven_sentiment.append(line.split(\"\\t\")[6])\n",
    "with open (\"annotated_data/vali_agreement.txt\") as vali:\n",
    "    for line in vali:\n",
    "        vali_opinion.append(line.split(\"\\t\")[5])\n",
    "        vali_sentiment.append(line.split(\"\\t\")[6])\n",
    "\n",
    "print(sven_sentiment)\n",
    "print(vali_sentiment)\n",
    "\n",
    "# We use sklearn method for this \n",
    "\n",
    "print(metrics.cohen_kappa_score(sven_opinion, vali_opinion))\n",
    "metrics.cohen_kappa_score(sven_sentiment, vali_sentiment)\n"
   ]
  },
  {
   "cell_type": "markdown",
   "metadata": {},
   "source": [
    "Reported values for Cohen's Kappa are **0.4782608695652174** and **0.6277145811789038** for Opinion and Sentiment Agreement Respectively.\n",
    "<br>\n",
    "<br>\n",
    "These scores correspond to a specific Strength of Agreement\n",
    "\n",
    "|Cohen's Kappa statistic   |Strength of Agreement\n",
    "|---|---|\n",
    "| 0.00  | Poor  |\n",
    "|   0.00 - 0.20 | Slight  |\n",
    "| 0.21 - 0.40  | Fair  |\n",
    "| 0.41 - 0.60  | Moderate  |\n",
    "| 0.61 - 0.80  | Substantial  |\n",
    "| 0.81 - 1.00  | Almost Perfect  |\n",
    "\n",
    "https://pubmed.ncbi.nlm.nih.gov/15883903/\n",
    "\n",
    "The scores show **Moderate** and **Substantial** Agreement for Opinion and Sentiment respectivly. \n",
    "<br>\n",
    "Even if these values show that the two annotators agreed in the majority of the cases, the task of annotating sentiment and opinion for a comment at hand was expected to be trivial, expecting higher values for kappa values in both cases.\n",
    "<br>\n",
    "By looking at the data, it is assumed that especially the neutral class was most diffcult to annotate and contributed the most to a decrease in score. This is why the following approach will count neutral classes from any annotator as agreeing labels in order to evaluate the difficulty of the neutral class"
   ]
  },
  {
   "cell_type": "code",
   "execution_count": 14,
   "metadata": {},
   "outputs": [
    {
     "name": "stdout",
     "output_type": "stream",
     "text": [
      "21 39 0 0\n",
      "1.0 0.42250000000000004 0.12249999999999998\n"
     ]
    },
    {
     "data": {
      "text/plain": [
       "1.0"
      ]
     },
     "execution_count": 14,
     "metadata": {},
     "output_type": "execute_result"
    }
   ],
   "source": [
    "def kappa_o_neutral(agreements_1, agreements_2):\n",
    "    \"\"\"\n",
    "    this function will return Cohen's Kappa without neutral classes\n",
    "    :param agreements_1: list of strings\n",
    "    :param agreements_2: list of strings\n",
    "    :return: float\n",
    "    \"\"\"\n",
    "\n",
    "    correct_correct = 0\n",
    "    false_false = 0\n",
    "    correct_false = 0\n",
    "    false_correct = 0\n",
    "\n",
    "    for idx, label in enumerate(agreements_1):\n",
    "\n",
    "        # all cases where we have a \"POS-POS-case\"\n",
    "        # Includes NEUTRAL NEUTRAL, POS POS, POS NEUTRAL, NEUTRAL POS\n",
    "        if (label == agreements_2[idx] == \"positive\") or (label == agreements_2[idx] == \"neutral\") or ((label == \"neutral\") and (agreements_2[idx] == \"positive\")) or ((label == \"positive\") and (agreements_2[idx] == \"neutral\")):\n",
    "            correct_correct += 1\n",
    "        \n",
    "        # all cases with \"POS-NEG-case\"\n",
    "        elif ((label == \"positive\") and (agreements_2[idx] == \"negative\")):\n",
    "            correct_false += 1\n",
    "\n",
    "        # all cases with \"NEG-POS-case\"\n",
    "        elif ((label == \"negative\") and (agreements_2[idx] == \"positive\")):\n",
    "            false_correct += 1\n",
    "\n",
    "        else:\n",
    "            false_false += 1\n",
    "\n",
    "    p_nought = (correct_correct + false_false) / (false_correct + correct_false + correct_correct + false_false)\n",
    "\n",
    "    p_correct = (correct_correct + correct_false) / (correct_correct + correct_false + false_correct + false_false) * ((correct_correct + false_correct) / (correct_correct + correct_false + false_correct + false_false))\n",
    "\n",
    "    p_incorrect = (false_correct + false_false) / (correct_correct + correct_false + false_correct + false_false) * ((correct_false + false_false) / (correct_correct + correct_false + false_correct + false_false))\n",
    "\n",
    "    p_expected = p_correct + p_incorrect\n",
    "\n",
    "    kappa = (p_nought - p_expected) / (1 - p_expected)\n",
    "\n",
    "    print(p_nought, p_incorrect, p_correct)\n",
    "\n",
    "    return kappa\n",
    "\n",
    "kappa_o_neutral(vali_sentiment, sven_sentiment)"
   ]
  },
  {
   "cell_type": "markdown",
   "metadata": {},
   "source": [
    "### Analysing specific users\n",
    "\n",
    "We have seen that some users that have commented multiple times in the randomly sampled data show some consistency when it comes to the opinion and sentiment. The goal now is to annotate more comments from these users in order to get a broader overview and see if this consistency still holds true.\n",
    "\n"
   ]
  },
  {
   "cell_type": "code",
   "execution_count": 2,
   "metadata": {},
   "outputs": [],
   "source": [
    "from bs4 import BeautifulSoup\n",
    "from IPython.display import display\n",
    "import requests\n",
    "import os"
   ]
  },
  {
   "cell_type": "code",
   "execution_count": 13,
   "metadata": {},
   "outputs": [],
   "source": [
    "class UserCommentProfiling:\n",
    "    \"\"\"\n",
    "    A class for profiling specific users \n",
    "\n",
    "\n",
    "    Attributes\n",
    "    ----------\n",
    "\n",
    "    user: str\n",
    "        The username of the user to profile\n",
    "\n",
    "    \n",
    "    Methods\n",
    "    ---------\n",
    "    get_title_and_subtitle()\n",
    "        returns the title and subtitle\n",
    "\n",
    "    \"\"\"\n",
    "    def __init__(self, user):\n",
    "\n",
    "        \"\"\"\n",
    "        Parameters\n",
    "        ----------\n",
    "        user : str\n",
    "            The username of the user to profile\n",
    "        \"\"\"\n",
    "\n",
    "        self.user = user\n",
    "    \n",
    "\n",
    "    def get_user(self):\n",
    "        \"\"\"\n",
    "        this method will return the username\n",
    "\n",
    "        Returns\n",
    "        ----------\n",
    "        string\n",
    "            The username.\n",
    "        \"\"\"\n",
    "        return self.user\n",
    "\n",
    "\n",
    "    def get_user_data(self):\n",
    "        \"\"\"\n",
    "        This method returns a pandas object\n",
    "        with comments from the given user\n",
    "\n",
    "        Returns\n",
    "        ----------\n",
    "        pandas object\n",
    "            with comments from the given user\n",
    "        \"\"\"\n",
    "\n",
    "        # The first 87 comments had been annotated without article topic, this is why the colums get shifted for the first few elements\n",
    "        data = pd.read_csv(\"annotated_data/cleaned_annotated_data_training.txt\",  names=[\"ID\", \"Date\", \"Time\", \"Comment Level\", \"Username\", \"Opinion\", \"Sentiment\", \"topic_comment\", \"Topic_article\", \"comment\"], delimiter=\"\\t\")\n",
    "        Nan = data[data[\"comment\"].isnull()]\n",
    "        Nan.loc[:, \"comment\"] = Nan.loc[:, \"Topic_article\"]\n",
    "        Nan.loc[:, \"Topic_article\"] = \"nan\"\n",
    "\n",
    "        data[:88] = Nan\n",
    "\n",
    "        current_user_data = data.loc[data.Username == self.user]\n",
    "        \n",
    "\n",
    "        # check how far I have already annotated in order to not include comments twice\n",
    "        with open (\"annotated_data/annotated_data_training.txt\", mode=\"r\", encoding=\"utf-8\") as f:\n",
    "            lines = [line for line in f.readlines() if line != \"\\n\"]\n",
    "            done_line = len(lines)\n",
    "\n",
    "        data_weiter = pd.read_csv(\"shuffled_corona_relevante_kommentare.txt\", names=[\"ID\", \"Date\", \"Time\", \"Comment Level\", \"Username\", \"comment\"], delimiter=\"\\t\")[done_line:]\n",
    "        data_weiter = data_weiter.loc[data_weiter.Username == self.user]\n",
    "\n",
    "\n",
    "\n",
    "        # Add missing columns to the dataframe (Here we are missing all labels in label_to_add)\n",
    "        labels_to_add = [\"Opinion\", \"Sentiment\", \"topic_comment\", \"Topic_article\"]\n",
    "\n",
    "        for i, label in enumerate(labels_to_add):\n",
    "            data_weiter.insert(i+5, label, [\"nan\" for i in range(len(data_weiter))])\n",
    "\n",
    "        # Concatenate both current progress of annotated comments of user and to be annoatated comments dataframes\n",
    "\n",
    "        alle_user = pd.concat([current_user_data, data_weiter])\n",
    "        display(alle_user)\n",
    "        return alle_user\n",
    "        \n",
    "    def display_progress(self):\n",
    "        \"\"\"\n",
    "        this method will display the annotation progress for the user given\n",
    "\n",
    "        \"\"\"\n",
    "\n",
    "        mein_progress = pd.read_csv(\"annotated_data/users/\" + self.user +\"_dataframe.csv\")\n",
    "\n",
    "\n",
    "        for index, row in mein_progress.iterrows():\n",
    "            if type(row[\"Opinion\"]) != float:\n",
    "                print(index)\n",
    "            else:\n",
    "                progress = index\n",
    "                break\n",
    "        display(mein_progress.iloc[:progress])\n",
    "\n",
    "\n",
    "    def annotate(self, dataframe):\n",
    "        \"\"\"\n",
    "        this method will return the will start annotation process for the user given\n",
    "\n",
    "        \"\"\"\n",
    "        print(type((dataframe)))\n",
    "\n",
    "        current_dir = os.getcwd()\n",
    "\n",
    "        if not isinstance(dataframe, pd.DataFrame):\n",
    "            print(\"reading csv\")\n",
    "            dataframe = pd.read_csv(\"annotated_data/users/\" + dataframe)\n",
    "            display(dataframe)\n",
    "            as_csv = True\n",
    "        else:\n",
    "            as_csv = False\n",
    "    \n",
    "        labels = [\"positive\", \"negative\", \"neutral\", \"exit\"]\n",
    "\n",
    "\n",
    "        for index, row in dataframe.iterrows():\n",
    "            print(row[\"Opinion\"], type(row[\"Opinion\"]))\n",
    "            if (as_csv and type(row[\"Opinion\"]) != float):\n",
    "                continue\n",
    "            elif (not row[\"Opinion\"] == \"nan\" and not as_csv):\n",
    "                continue\n",
    "                \n",
    "            request = requests.get(\"https://www.spiegel.de/wissenschaft/medizin/corona-news-am-samstag-die-wichtigsten-entwicklungen-zu-sars-cov-2-und-covid-19-a-\" + row[\"ID\"])\n",
    "\n",
    "            soup = BeautifulSoup(request.content, \"html.parser\")\n",
    "\n",
    "            title = soup.find(\"title\").text\n",
    "\n",
    "            subtitle = soup.find(\"meta\", property=\"og:description\")[\"content\"]\n",
    "\n",
    "            Opinion_kommentar = input(\"Opinion ------\" +row[\"comment\"])\n",
    "\n",
    "            while Opinion_kommentar not in labels:\n",
    "                Opinion_kommentar = input(\"Opinion ------\" +row[\"comment\"])\n",
    "            \n",
    "            if Opinion_kommentar == \"exit\":\n",
    "                dataframe.to_csv(\"annotated_data/users/\" + self.user + \"_dataframe.csv\", encoding=\"utf-8-sig\", index=False) \n",
    "                return\n",
    "\n",
    "            Sentiment_kommentar = input(\"Sentiment ------\" +row[\"comment\"])\n",
    "\n",
    "            while Sentiment_kommentar not in labels:\n",
    "                Sentiment_kommentar  = input(\"Sentiment ------\" +row[\"comment\"])\n",
    "\n",
    "            topic_comment = input(\"Topic Comment ------\" +row[\"comment\"])\n",
    "\n",
    "            topic_article = input(\"Topic Article ------\" +title + \"\\n\" + subtitle)\n",
    "            \n",
    "            print(row)\n",
    "            dataframe.loc[dataframe.ID == row[\"ID\"], :] = [row[\"ID\"], row[\"Date\"] , row[\"Time\"],row[\"Comment Level\"], row[\"Username\"],Opinion_kommentar, Sentiment_kommentar, topic_comment, topic_article, row[\"comment\"]]\n",
    "            # except ValueError:\n",
    "            #     print([x for x in dataframe.loc[dataframe.ID == row[\"ID\"]]], \"XXXXXXXXXX\", [row[\"ID\"], row[\"Date\"] , row[\"Time\"],row[\"Comment Level\"], row[\"Username\"],Opinion_kommentar, Sentiment_kommentar, topic_comment, topic_article, row[\"comment\"]])\n",
    "            \n",
    "            \n",
    "\n",
    "            print(Opinion_kommentar, Sentiment_kommentar, topic_article, topic_comment)\n",
    "\n",
    "            dataframe.to_csv(\"annotated_data/users/\" + self.user + \"_dataframe.csv\", encoding=\"utf-8-sig\", index=False)\n",
    "\n",
    "# meine_daten = pd.read_csv(\"shuffled_corona_relevante_kommentare.txt\", names=[\"ID\", \"Date\", \"Time\", \"Comment Level\", \"Username\",\"comment\"], delimiter=\"\\t\")\n",
    "\n",
    "# frequent_users = ['knielang', 'Coraggioso-Ir6WKaaMR', 'Pet2020', 'Dirk-H-xIsGPZR', 'HansUlrich', 'Markus-vvb8EOEWg', 'GuckyCD', 'Hans-hrmkpk6ZR', 'Karl-Ernst -5k_i_MEWg', 'Werner-iFz9kNPWR']\n",
    "\n",
    "# meine_daten = meine_daten[done_line:]\n",
    "\n",
    "# meine_daten.loc[meine_daten.Username == \"Pet2020\"]"
   ]
  },
  {
   "cell_type": "code",
   "execution_count": null,
   "metadata": {},
   "outputs": [],
   "source": [
    "# Pet2020', 'Dirk-H-xIsGPZR', 'HansUlrich', 'Markus-vvb8EOEWg', 'GuckyCD', 'Hans-hrmkpk6ZR', 'Karl-Ernst -5k_i_MEWg', 'Werner-iFz9kNPWR'"
   ]
  },
  {
   "cell_type": "code",
   "execution_count": null,
   "metadata": {},
   "outputs": [],
   "source": [
    "### First we create an object for the user\n",
    "### The get user method creates a dataframe that can be used to annotate.\n",
    "### After this annotation, opinion can be annotated with \"exit\" in order to save the progress\n",
    "### The following annotations are done using the .csv name of the file\n",
    "\n",
    "meinUser = UserCommentProfiling('Dirk-H-xIsGPZR')\n",
    "meinUser.display_progress()\n",
    "# meinUser.get_title_and_subtitle(\"529f745f-c1a5-47ad-8be5-7121e770bf66\")\n",
    "\n",
    "\n",
    "# meinUser.annotate(meinUser.get_user_data())\n",
    "# meinUser.annotate(\"Dirk-H-xIsGPZR_dataframe.csv\")"
   ]
  },
  {
   "cell_type": "markdown",
   "metadata": {},
   "source": [
    "### Plotting the Data\n",
    "\n",
    "We have annotated the data for 4 user (30 comments each). In the following step, we will plot the sentiment and opinion development of each user and also show on which topics the user commented the most."
   ]
  },
  {
   "cell_type": "code",
   "execution_count": 1,
   "metadata": {},
   "outputs": [],
   "source": [
    "import datetime as dt\n",
    "import matplotlib.pyplot as plt\n",
    "import matplotlib.dates as mdates\n",
    "from matplotlib.collections import PolyCollection\n",
    "import numpy as np\n",
    "    "
   ]
  },
  {
   "cell_type": "code",
   "execution_count": 6,
   "metadata": {},
   "outputs": [],
   "source": [
    "def plot_dev(user, rows, type):\n",
    "\n",
    "    \"\"\"\n",
    "        Parameters\n",
    "        ----------\n",
    "        user : str\n",
    "            The username of the user to be plotted\n",
    "\n",
    "        rows: int\n",
    "            Number of comments to plot\n",
    "\n",
    "\n",
    "        type: str (\"opinion\" | \"sentiment\")\n",
    "            If the samples to be plotted are opinion or sentiment\n",
    "    \"\"\"\n",
    "\n",
    "    dataframe = pd.read_csv(\"annotated_data/users/\" + user + \"_dataframe.csv\", nrows=rows)\n",
    "\n",
    "    # print(dataframe.dtypes)\n",
    "    user = user\n",
    "    dataframe[\"Date\"] = pd.to_datetime(dataframe[\"Date\"])\n",
    "    \n",
    "\n",
    "    # nan = dataframe[\"Opinion\"].notnull()\n",
    "\n",
    "    # dataframe = dataframe.loc[nan]\n",
    "\n",
    "    dataframe.sort_values(by=\"Date\", inplace=True)\n",
    "\n",
    "    first_date = dataframe[\"Date\"][rows-1]\n",
    "    last_date = dataframe[\"Date\"][0]\n",
    "    \n",
    "\n",
    "    # display(dataframe)\n",
    "    if type ==\"sentiment\":\n",
    "        meine_kategorie = dataframe.Sentiment\n",
    "    elif type ==\"opinion\":\n",
    "        meine_kategorie = dataframe.Opinion\n",
    "    colorsmap = {\"negative\": \"orangered\", \"positive\": \"mediumseagreen\", \"neutral\": \"steelblue\"}\n",
    "\n",
    "    verts = []\n",
    "\n",
    "    for i in range(len(dataframe)):\n",
    "        verts.append([(i/10, 0.1),(i/10, 0.2),((i+1)/10, 0.2),((i+1)/10, 0.1)])\n",
    "\n",
    "\n",
    "\n",
    "\n",
    "    colors = []\n",
    "    for x in meine_kategorie:\n",
    "        colors.append(colorsmap[x])\n",
    "\n",
    "    print(colors)\n",
    "\n",
    "    \n",
    "    bars = PolyCollection(verts, facecolors=colors)\n",
    "    fig, ax = plt.subplots()\n",
    "\n",
    "\n",
    "\n",
    "\n",
    "    ax.add_collection(bars)\n",
    "    ax.set_ylim([0.05, 0.25])\n",
    "    ax.set_xlim(0, len(dataframe)*0.1)\n",
    "\n",
    "\n",
    "    ticks = ax.get_xticklabels()\n",
    "    ticks[0] = first_date\n",
    "    ticks[-1] = last_date\n",
    "    ax.set_xticklabels(ticks)\n",
    "\n",
    "    ax.set_yticklabels([])\n",
    "    ax.set_ylabel(type)\n",
    "\n",
    "    plt.title(type + \" development for user \" + user)"
   ]
  },
  {
   "cell_type": "code",
   "execution_count": 86,
   "metadata": {},
   "outputs": [
    {
     "data": {
      "text/html": [
       "<div>\n",
       "<style scoped>\n",
       "    .dataframe tbody tr th:only-of-type {\n",
       "        vertical-align: middle;\n",
       "    }\n",
       "\n",
       "    .dataframe tbody tr th {\n",
       "        vertical-align: top;\n",
       "    }\n",
       "\n",
       "    .dataframe thead th {\n",
       "        text-align: right;\n",
       "    }\n",
       "</style>\n",
       "<table border=\"1\" class=\"dataframe\">\n",
       "  <thead>\n",
       "    <tr style=\"text-align: right;\">\n",
       "      <th></th>\n",
       "      <th>ID</th>\n",
       "      <th>Date</th>\n",
       "      <th>Time</th>\n",
       "      <th>Comment Level</th>\n",
       "      <th>Username</th>\n",
       "      <th>Opinion</th>\n",
       "      <th>Sentiment</th>\n",
       "      <th>topic_comment</th>\n",
       "      <th>Topic_article</th>\n",
       "      <th>comment</th>\n",
       "    </tr>\n",
       "  </thead>\n",
       "  <tbody>\n",
       "    <tr>\n",
       "      <th>0</th>\n",
       "      <td>5641bbb0-10d2-47a8-b677-d42335fe7db1</td>\n",
       "      <td>2021-05-11</td>\n",
       "      <td>04:06</td>\n",
       "      <td>0</td>\n",
       "      <td>knielang</td>\n",
       "      <td>neutral</td>\n",
       "      <td>neutral</td>\n",
       "      <td>lockdown</td>\n",
       "      <td>NaN</td>\n",
       "      <td>𝗦𝗶𝗲𝗯𝗲𝗻-𝗧𝗮𝗴𝗲-𝗜𝗻𝘇𝗶𝗱𝗲𝗻𝘇 𝘀𝗶𝗻𝗸𝘁 𝗮𝘂𝗳 𝟭𝟭𝟱,𝟰 Ist also ...</td>\n",
       "    </tr>\n",
       "    <tr>\n",
       "      <th>1</th>\n",
       "      <td>43fa62e5-7be1-41e0-9b0c-29ff5c9c6716</td>\n",
       "      <td>2021-03-16</td>\n",
       "      <td>10:11</td>\n",
       "      <td>0</td>\n",
       "      <td>knielang</td>\n",
       "      <td>positive</td>\n",
       "      <td>negative</td>\n",
       "      <td>maßnahmen</td>\n",
       "      <td>maskenpflicht</td>\n",
       "      <td>Viel Aufregung um relativ wenig, ab nächster W...</td>\n",
       "    </tr>\n",
       "    <tr>\n",
       "      <th>2</th>\n",
       "      <td>84d8adc0-50b8-446d-b21d-58e95d8668dd</td>\n",
       "      <td>2021-03-17</td>\n",
       "      <td>12:04</td>\n",
       "      <td>0</td>\n",
       "      <td>knielang</td>\n",
       "      <td>negative</td>\n",
       "      <td>negative</td>\n",
       "      <td>politik</td>\n",
       "      <td>überblick</td>\n",
       "      <td>Da fragen sich jetzt viele Deutsche warum sind...</td>\n",
       "    </tr>\n",
       "    <tr>\n",
       "      <th>3</th>\n",
       "      <td>c1f26daa-043f-422e-8cdf-d9f91044d399</td>\n",
       "      <td>2020-07-24</td>\n",
       "      <td>16:53</td>\n",
       "      <td>0</td>\n",
       "      <td>knielang</td>\n",
       "      <td>neutral</td>\n",
       "      <td>neutral</td>\n",
       "      <td>inzidenz</td>\n",
       "      <td>inzidenz</td>\n",
       "      <td>Vor 2 Wochen lag das gleitende 7-Tage-Mittel b...</td>\n",
       "    </tr>\n",
       "    <tr>\n",
       "      <th>4</th>\n",
       "      <td>b1c14ced-a163-40d7-8639-20f0971be1fa</td>\n",
       "      <td>2021-06-11</td>\n",
       "      <td>07:57</td>\n",
       "      <td>0</td>\n",
       "      <td>knielang</td>\n",
       "      <td>neutral</td>\n",
       "      <td>negative</td>\n",
       "      <td>wirtschaft</td>\n",
       "      <td>überblick</td>\n",
       "      <td>Ein niedriges Infektionsgeschehen ist gut für ...</td>\n",
       "    </tr>\n",
       "    <tr>\n",
       "      <th>5</th>\n",
       "      <td>43acd416-2f97-42b6-8ab5-116f5990a0f7</td>\n",
       "      <td>2021-06-24</td>\n",
       "      <td>17:18</td>\n",
       "      <td>0</td>\n",
       "      <td>knielang</td>\n",
       "      <td>positive</td>\n",
       "      <td>neutral</td>\n",
       "      <td>maßnahmen</td>\n",
       "      <td>überblick</td>\n",
       "      <td>»Meine These lautet: Wenn wir frühzeitige Maßn...</td>\n",
       "    </tr>\n",
       "    <tr>\n",
       "      <th>6</th>\n",
       "      <td>a5d28f2a-93c8-4a65-972b-47804bbb9125</td>\n",
       "      <td>2021-02-15</td>\n",
       "      <td>19:30</td>\n",
       "      <td>0</td>\n",
       "      <td>knielang</td>\n",
       "      <td>positive</td>\n",
       "      <td>neutral</td>\n",
       "      <td>maßnahmen</td>\n",
       "      <td>überblick</td>\n",
       "      <td>»Wenn hier nicht alle vorsichtig sind, sind wi...</td>\n",
       "    </tr>\n",
       "    <tr>\n",
       "      <th>7</th>\n",
       "      <td>43dc40cc-f273-446c-9891-d86eec8ae387</td>\n",
       "      <td>2021-01-14</td>\n",
       "      <td>22:03</td>\n",
       "      <td>0</td>\n",
       "      <td>knielang</td>\n",
       "      <td>neutral</td>\n",
       "      <td>neutral</td>\n",
       "      <td>infektion</td>\n",
       "      <td>überblick</td>\n",
       "      <td>Gouverneur Nelson Lima kündigte landesweite Au...</td>\n",
       "    </tr>\n",
       "    <tr>\n",
       "      <th>8</th>\n",
       "      <td>0abc42cd-95a4-4d7c-9ce7-c367a66306e3</td>\n",
       "      <td>2021-03-11</td>\n",
       "      <td>14:31</td>\n",
       "      <td>0</td>\n",
       "      <td>knielang</td>\n",
       "      <td>positive</td>\n",
       "      <td>negative</td>\n",
       "      <td>impfung</td>\n",
       "      <td>impfung</td>\n",
       "      <td>Vor schweren Krankheitsverläufen schützen alle...</td>\n",
       "    </tr>\n",
       "    <tr>\n",
       "      <th>9</th>\n",
       "      <td>dc560e1e-1b01-4bca-aac5-d1b5b3bf0e45</td>\n",
       "      <td>2021-02-13</td>\n",
       "      <td>14:59</td>\n",
       "      <td>0</td>\n",
       "      <td>knielang</td>\n",
       "      <td>neutral</td>\n",
       "      <td>neutral</td>\n",
       "      <td>infektion</td>\n",
       "      <td>überblick</td>\n",
       "      <td>Die Infektionszahlen bei Fußballern liegen deu...</td>\n",
       "    </tr>\n",
       "    <tr>\n",
       "      <th>10</th>\n",
       "      <td>8dc50c9f-0033-4992-922a-d60accf92fae</td>\n",
       "      <td>2021-07-13</td>\n",
       "      <td>15:59</td>\n",
       "      <td>0</td>\n",
       "      <td>knielang</td>\n",
       "      <td>neutral</td>\n",
       "      <td>neutral</td>\n",
       "      <td>infektion</td>\n",
       "      <td>überblick</td>\n",
       "      <td>Brasilien hat die niedrigste Zahl bei den tägl...</td>\n",
       "    </tr>\n",
       "    <tr>\n",
       "      <th>11</th>\n",
       "      <td>34882094-f400-46a8-ad13-b50dc8d31b53</td>\n",
       "      <td>2020-11-20</td>\n",
       "      <td>11:55</td>\n",
       "      <td>0</td>\n",
       "      <td>knielang</td>\n",
       "      <td>neutral</td>\n",
       "      <td>negative</td>\n",
       "      <td>infektion</td>\n",
       "      <td>überblick</td>\n",
       "      <td>Das 7-Tage-Mittel liegt in D jetzt bei 18.353 ...</td>\n",
       "    </tr>\n",
       "    <tr>\n",
       "      <th>12</th>\n",
       "      <td>529f745f-c1a5-47ad-8be5-7121e770bf66</td>\n",
       "      <td>2021-05-01</td>\n",
       "      <td>18:07</td>\n",
       "      <td>0</td>\n",
       "      <td>knielang</td>\n",
       "      <td>neutral</td>\n",
       "      <td>negative</td>\n",
       "      <td>maßnahmen</td>\n",
       "      <td>überblick</td>\n",
       "      <td>Ich finde man sollte alle Tankstellen schließe...</td>\n",
       "    </tr>\n",
       "    <tr>\n",
       "      <th>13</th>\n",
       "      <td>84fc0050-d691-4566-8fd9-ad824f80a93b</td>\n",
       "      <td>2021-06-06</td>\n",
       "      <td>15:19</td>\n",
       "      <td>0</td>\n",
       "      <td>knielang</td>\n",
       "      <td>neutral</td>\n",
       "      <td>neutral</td>\n",
       "      <td>infektion</td>\n",
       "      <td>überblick</td>\n",
       "      <td>Das UK meldet 5.341 Neuinfektionen, vor einer ...</td>\n",
       "    </tr>\n",
       "    <tr>\n",
       "      <th>14</th>\n",
       "      <td>fc5afccc-33f1-4f88-a1e9-7e4cb9d34e3f</td>\n",
       "      <td>2021-01-07</td>\n",
       "      <td>11:01</td>\n",
       "      <td>0</td>\n",
       "      <td>knielang</td>\n",
       "      <td>neutral</td>\n",
       "      <td>negative</td>\n",
       "      <td>maßnahmen</td>\n",
       "      <td>überblick</td>\n",
       "      <td>Die englischen Schüler dürften derzeit dort n...</td>\n",
       "    </tr>\n",
       "    <tr>\n",
       "      <th>15</th>\n",
       "      <td>33bd59e9-e416-45d4-8d3a-cb045e2a7f77</td>\n",
       "      <td>2021-06-15</td>\n",
       "      <td>05:37</td>\n",
       "      <td>0</td>\n",
       "      <td>knielang</td>\n",
       "      <td>neutral</td>\n",
       "      <td>neutral</td>\n",
       "      <td>infektion</td>\n",
       "      <td>überblick</td>\n",
       "      <td>EU-weit ist die Inzidenz auf 31,0 gesunken (-2...</td>\n",
       "    </tr>\n",
       "    <tr>\n",
       "      <th>16</th>\n",
       "      <td>f7b79781-3f6b-4574-9737-937ec7411eb8</td>\n",
       "      <td>2021-04-22</td>\n",
       "      <td>15:10</td>\n",
       "      <td>0</td>\n",
       "      <td>knielang</td>\n",
       "      <td>neutral</td>\n",
       "      <td>neutral</td>\n",
       "      <td>infektion</td>\n",
       "      <td>überblick</td>\n",
       "      <td>Schweden hat wieder knapp 8.000 Neuinfektionen...</td>\n",
       "    </tr>\n",
       "    <tr>\n",
       "      <th>17</th>\n",
       "      <td>bc99f485-b716-45f0-957b-6d7d8d1079dd</td>\n",
       "      <td>2021-03-01</td>\n",
       "      <td>17:04</td>\n",
       "      <td>0</td>\n",
       "      <td>knielang</td>\n",
       "      <td>neutral</td>\n",
       "      <td>neutral</td>\n",
       "      <td>impfung</td>\n",
       "      <td>überblick</td>\n",
       "      <td>Bundesregierung lehnt Freigabe von AstraZeneca...</td>\n",
       "    </tr>\n",
       "    <tr>\n",
       "      <th>18</th>\n",
       "      <td>17d15e32-3dd2-40a2-be53-806fb4b8d50d</td>\n",
       "      <td>2021-03-09</td>\n",
       "      <td>23:39</td>\n",
       "      <td>0</td>\n",
       "      <td>knielang</td>\n",
       "      <td>neutral</td>\n",
       "      <td>neutral</td>\n",
       "      <td>infektion</td>\n",
       "      <td>überblick</td>\n",
       "      <td>Brasilien meldet mit 1.972 Covid-Toten einen n...</td>\n",
       "    </tr>\n",
       "    <tr>\n",
       "      <th>19</th>\n",
       "      <td>201f11d1-ccd4-4a71-9706-758e2bb59aef</td>\n",
       "      <td>2021-05-14</td>\n",
       "      <td>10:03</td>\n",
       "      <td>0</td>\n",
       "      <td>knielang</td>\n",
       "      <td>neutral</td>\n",
       "      <td>neutral</td>\n",
       "      <td>impfung</td>\n",
       "      <td>überblick</td>\n",
       "      <td>Wir sollten in Berlin eine Volksimpfhalle baue...</td>\n",
       "    </tr>\n",
       "    <tr>\n",
       "      <th>20</th>\n",
       "      <td>76b03086-18da-4c25-9258-bc80b03d668b</td>\n",
       "      <td>2021-02-18</td>\n",
       "      <td>18:56</td>\n",
       "      <td>0</td>\n",
       "      <td>knielang</td>\n",
       "      <td>negative</td>\n",
       "      <td>neutral</td>\n",
       "      <td>impfung</td>\n",
       "      <td>impfung</td>\n",
       "      <td>Ich hätte gern einen J&amp;J als Starter, aber bit...</td>\n",
       "    </tr>\n",
       "    <tr>\n",
       "      <th>21</th>\n",
       "      <td>0881c4e7-0bac-471e-9d40-c9a153d7f16f</td>\n",
       "      <td>2020-10-03</td>\n",
       "      <td>20:09</td>\n",
       "      <td>0</td>\n",
       "      <td>knielang</td>\n",
       "      <td>negative</td>\n",
       "      <td>negative</td>\n",
       "      <td>usa</td>\n",
       "      <td>usa</td>\n",
       "      <td>Die Sauerstoffsättigung von Trumps Bluts habe ...</td>\n",
       "    </tr>\n",
       "    <tr>\n",
       "      <th>22</th>\n",
       "      <td>bb94d78f-d15a-4259-9dc1-82edf2f04d75</td>\n",
       "      <td>2020-11-13</td>\n",
       "      <td>17:42</td>\n",
       "      <td>0</td>\n",
       "      <td>knielang</td>\n",
       "      <td>negative</td>\n",
       "      <td>negative</td>\n",
       "      <td>lockerung</td>\n",
       "      <td>überblick</td>\n",
       "      <td>Die Slowakei will ab Montag Kirchen, Kinos und...</td>\n",
       "    </tr>\n",
       "    <tr>\n",
       "      <th>23</th>\n",
       "      <td>15480e9e-86e8-438d-b081-4c0243c1e35f</td>\n",
       "      <td>2020-10-31</td>\n",
       "      <td>00:18</td>\n",
       "      <td>0</td>\n",
       "      <td>knielang</td>\n",
       "      <td>neutral</td>\n",
       "      <td>neutral</td>\n",
       "      <td>infektion</td>\n",
       "      <td>überblick</td>\n",
       "      <td>Laut worldometer waren es gestern mehr als 574...</td>\n",
       "    </tr>\n",
       "    <tr>\n",
       "      <th>24</th>\n",
       "      <td>93a88477-2cd3-4b6b-9f46-d317c523b8b3</td>\n",
       "      <td>2021-05-29</td>\n",
       "      <td>15:02</td>\n",
       "      <td>0</td>\n",
       "      <td>knielang</td>\n",
       "      <td>neutral</td>\n",
       "      <td>neutral</td>\n",
       "      <td>infektion</td>\n",
       "      <td>überblick</td>\n",
       "      <td>»Ich würde bei den vier Spielern täglich einen...</td>\n",
       "    </tr>\n",
       "    <tr>\n",
       "      <th>25</th>\n",
       "      <td>db7196be-852b-44ad-9b8d-e7513d0adb2c</td>\n",
       "      <td>2020-12-28</td>\n",
       "      <td>13:40</td>\n",
       "      <td>0</td>\n",
       "      <td>knielang</td>\n",
       "      <td>positive</td>\n",
       "      <td>negative</td>\n",
       "      <td>maßnahmen</td>\n",
       "      <td>überblick</td>\n",
       "      <td>Die Debatte um Produktionssteigerungen kommt m...</td>\n",
       "    </tr>\n",
       "    <tr>\n",
       "      <th>26</th>\n",
       "      <td>3cf41a7f-c228-42c0-a0a1-00b008a2b613</td>\n",
       "      <td>2021-06-23</td>\n",
       "      <td>06:33</td>\n",
       "      <td>0</td>\n",
       "      <td>knielang</td>\n",
       "      <td>neutral</td>\n",
       "      <td>neutral</td>\n",
       "      <td>infektion</td>\n",
       "      <td>überblick</td>\n",
       "      <td>Kolumbien ist jetzt nicht nur das zehnte Land ...</td>\n",
       "    </tr>\n",
       "    <tr>\n",
       "      <th>27</th>\n",
       "      <td>a4e4c695-010f-4d53-a191-71dc8bb70f3b</td>\n",
       "      <td>2020-12-22</td>\n",
       "      <td>12:42</td>\n",
       "      <td>0</td>\n",
       "      <td>knielang</td>\n",
       "      <td>negative</td>\n",
       "      <td>neutral</td>\n",
       "      <td>briten</td>\n",
       "      <td>überblick</td>\n",
       "      <td>Die größte Sorge der Briten ist anscheinend zu...</td>\n",
       "    </tr>\n",
       "    <tr>\n",
       "      <th>28</th>\n",
       "      <td>8d587e20-b10a-4ebf-8d70-216ca423549d</td>\n",
       "      <td>2021-02-26</td>\n",
       "      <td>23:56</td>\n",
       "      <td>0</td>\n",
       "      <td>knielang</td>\n",
       "      <td>positive</td>\n",
       "      <td>neutral</td>\n",
       "      <td>lockdown</td>\n",
       "      <td>überblick</td>\n",
       "      <td>Tschechien weiter im Ausnahmezustand – Sie pla...</td>\n",
       "    </tr>\n",
       "    <tr>\n",
       "      <th>29</th>\n",
       "      <td>3b285ee9-443c-4ff2-9f98-012cfdadc87b</td>\n",
       "      <td>2020-11-26</td>\n",
       "      <td>14:32</td>\n",
       "      <td>0</td>\n",
       "      <td>knielang</td>\n",
       "      <td>positive</td>\n",
       "      <td>negative</td>\n",
       "      <td>lockdown</td>\n",
       "      <td>überblick</td>\n",
       "      <td>Wir treten seit 2 Wochen nur auf der Stelle. V...</td>\n",
       "    </tr>\n",
       "  </tbody>\n",
       "</table>\n",
       "</div>"
      ],
      "text/plain": [
       "                                      ID        Date   Time  Comment Level  \\\n",
       "0   5641bbb0-10d2-47a8-b677-d42335fe7db1  2021-05-11  04:06              0   \n",
       "1   43fa62e5-7be1-41e0-9b0c-29ff5c9c6716  2021-03-16  10:11              0   \n",
       "2   84d8adc0-50b8-446d-b21d-58e95d8668dd  2021-03-17  12:04              0   \n",
       "3   c1f26daa-043f-422e-8cdf-d9f91044d399  2020-07-24  16:53              0   \n",
       "4   b1c14ced-a163-40d7-8639-20f0971be1fa  2021-06-11  07:57              0   \n",
       "5   43acd416-2f97-42b6-8ab5-116f5990a0f7  2021-06-24  17:18              0   \n",
       "6   a5d28f2a-93c8-4a65-972b-47804bbb9125  2021-02-15  19:30              0   \n",
       "7   43dc40cc-f273-446c-9891-d86eec8ae387  2021-01-14  22:03              0   \n",
       "8   0abc42cd-95a4-4d7c-9ce7-c367a66306e3  2021-03-11  14:31              0   \n",
       "9   dc560e1e-1b01-4bca-aac5-d1b5b3bf0e45  2021-02-13  14:59              0   \n",
       "10  8dc50c9f-0033-4992-922a-d60accf92fae  2021-07-13  15:59              0   \n",
       "11  34882094-f400-46a8-ad13-b50dc8d31b53  2020-11-20  11:55              0   \n",
       "12  529f745f-c1a5-47ad-8be5-7121e770bf66  2021-05-01  18:07              0   \n",
       "13  84fc0050-d691-4566-8fd9-ad824f80a93b  2021-06-06  15:19              0   \n",
       "14  fc5afccc-33f1-4f88-a1e9-7e4cb9d34e3f  2021-01-07  11:01              0   \n",
       "15  33bd59e9-e416-45d4-8d3a-cb045e2a7f77  2021-06-15  05:37              0   \n",
       "16  f7b79781-3f6b-4574-9737-937ec7411eb8  2021-04-22  15:10              0   \n",
       "17  bc99f485-b716-45f0-957b-6d7d8d1079dd  2021-03-01  17:04              0   \n",
       "18  17d15e32-3dd2-40a2-be53-806fb4b8d50d  2021-03-09  23:39              0   \n",
       "19  201f11d1-ccd4-4a71-9706-758e2bb59aef  2021-05-14  10:03              0   \n",
       "20  76b03086-18da-4c25-9258-bc80b03d668b  2021-02-18  18:56              0   \n",
       "21  0881c4e7-0bac-471e-9d40-c9a153d7f16f  2020-10-03  20:09              0   \n",
       "22  bb94d78f-d15a-4259-9dc1-82edf2f04d75  2020-11-13  17:42              0   \n",
       "23  15480e9e-86e8-438d-b081-4c0243c1e35f  2020-10-31  00:18              0   \n",
       "24  93a88477-2cd3-4b6b-9f46-d317c523b8b3  2021-05-29  15:02              0   \n",
       "25  db7196be-852b-44ad-9b8d-e7513d0adb2c  2020-12-28  13:40              0   \n",
       "26  3cf41a7f-c228-42c0-a0a1-00b008a2b613  2021-06-23  06:33              0   \n",
       "27  a4e4c695-010f-4d53-a191-71dc8bb70f3b  2020-12-22  12:42              0   \n",
       "28  8d587e20-b10a-4ebf-8d70-216ca423549d  2021-02-26  23:56              0   \n",
       "29  3b285ee9-443c-4ff2-9f98-012cfdadc87b  2020-11-26  14:32              0   \n",
       "\n",
       "    Username   Opinion Sentiment topic_comment  Topic_article  \\\n",
       "0   knielang   neutral   neutral      lockdown            NaN   \n",
       "1   knielang  positive  negative     maßnahmen  maskenpflicht   \n",
       "2   knielang  negative  negative       politik      überblick   \n",
       "3   knielang   neutral   neutral      inzidenz       inzidenz   \n",
       "4   knielang   neutral  negative    wirtschaft      überblick   \n",
       "5   knielang  positive   neutral     maßnahmen      überblick   \n",
       "6   knielang  positive   neutral     maßnahmen      überblick   \n",
       "7   knielang   neutral   neutral     infektion      überblick   \n",
       "8   knielang  positive  negative       impfung        impfung   \n",
       "9   knielang   neutral   neutral     infektion      überblick   \n",
       "10  knielang   neutral   neutral     infektion      überblick   \n",
       "11  knielang   neutral  negative     infektion      überblick   \n",
       "12  knielang   neutral  negative     maßnahmen      überblick   \n",
       "13  knielang   neutral   neutral     infektion      überblick   \n",
       "14  knielang   neutral  negative     maßnahmen      überblick   \n",
       "15  knielang   neutral   neutral     infektion      überblick   \n",
       "16  knielang   neutral   neutral     infektion      überblick   \n",
       "17  knielang   neutral   neutral       impfung      überblick   \n",
       "18  knielang   neutral   neutral     infektion      überblick   \n",
       "19  knielang   neutral   neutral       impfung      überblick   \n",
       "20  knielang  negative   neutral       impfung        impfung   \n",
       "21  knielang  negative  negative           usa            usa   \n",
       "22  knielang  negative  negative     lockerung      überblick   \n",
       "23  knielang   neutral   neutral     infektion      überblick   \n",
       "24  knielang   neutral   neutral     infektion      überblick   \n",
       "25  knielang  positive  negative     maßnahmen      überblick   \n",
       "26  knielang   neutral   neutral     infektion      überblick   \n",
       "27  knielang  negative   neutral        briten      überblick   \n",
       "28  knielang  positive   neutral      lockdown      überblick   \n",
       "29  knielang  positive  negative      lockdown      überblick   \n",
       "\n",
       "                                              comment  \n",
       "0   𝗦𝗶𝗲𝗯𝗲𝗻-𝗧𝗮𝗴𝗲-𝗜𝗻𝘇𝗶𝗱𝗲𝗻𝘇 𝘀𝗶𝗻𝗸𝘁 𝗮𝘂𝗳 𝟭𝟭𝟱,𝟰 Ist also ...  \n",
       "1   Viel Aufregung um relativ wenig, ab nächster W...  \n",
       "2   Da fragen sich jetzt viele Deutsche warum sind...  \n",
       "3   Vor 2 Wochen lag das gleitende 7-Tage-Mittel b...  \n",
       "4   Ein niedriges Infektionsgeschehen ist gut für ...  \n",
       "5   »Meine These lautet: Wenn wir frühzeitige Maßn...  \n",
       "6   »Wenn hier nicht alle vorsichtig sind, sind wi...  \n",
       "7   Gouverneur Nelson Lima kündigte landesweite Au...  \n",
       "8   Vor schweren Krankheitsverläufen schützen alle...  \n",
       "9   Die Infektionszahlen bei Fußballern liegen deu...  \n",
       "10  Brasilien hat die niedrigste Zahl bei den tägl...  \n",
       "11  Das 7-Tage-Mittel liegt in D jetzt bei 18.353 ...  \n",
       "12  Ich finde man sollte alle Tankstellen schließe...  \n",
       "13  Das UK meldet 5.341 Neuinfektionen, vor einer ...  \n",
       "14   Die englischen Schüler dürften derzeit dort n...  \n",
       "15  EU-weit ist die Inzidenz auf 31,0 gesunken (-2...  \n",
       "16  Schweden hat wieder knapp 8.000 Neuinfektionen...  \n",
       "17  Bundesregierung lehnt Freigabe von AstraZeneca...  \n",
       "18  Brasilien meldet mit 1.972 Covid-Toten einen n...  \n",
       "19  Wir sollten in Berlin eine Volksimpfhalle baue...  \n",
       "20  Ich hätte gern einen J&J als Starter, aber bit...  \n",
       "21  Die Sauerstoffsättigung von Trumps Bluts habe ...  \n",
       "22  Die Slowakei will ab Montag Kirchen, Kinos und...  \n",
       "23  Laut worldometer waren es gestern mehr als 574...  \n",
       "24  »Ich würde bei den vier Spielern täglich einen...  \n",
       "25  Die Debatte um Produktionssteigerungen kommt m...  \n",
       "26  Kolumbien ist jetzt nicht nur das zehnte Land ...  \n",
       "27  Die größte Sorge der Briten ist anscheinend zu...  \n",
       "28  Tschechien weiter im Ausnahmezustand – Sie pla...  \n",
       "29  Wir treten seit 2 Wochen nur auf der Stelle. V...  "
      ]
     },
     "metadata": {},
     "output_type": "display_data"
    }
   ],
   "source": [
    "frame = pd.read_csv(\"annotated_data/users/knielang_dataframe.csv\", nrows=30)\n",
    "display(frame)\n"
   ]
  },
  {
   "cell_type": "code",
   "execution_count": 7,
   "metadata": {},
   "outputs": [
    {
     "name": "stdout",
     "output_type": "stream",
     "text": [
      "['steelblue', 'orangered', 'steelblue', 'orangered', 'orangered', 'orangered', 'steelblue', 'orangered', 'orangered', 'steelblue', 'steelblue', 'steelblue', 'steelblue', 'steelblue', 'steelblue', 'steelblue', 'orangered', 'orangered', 'orangered', 'steelblue', 'orangered', 'steelblue', 'steelblue', 'steelblue', 'steelblue', 'orangered', 'steelblue', 'steelblue', 'steelblue', 'steelblue']\n",
      "['steelblue', 'orangered', 'steelblue', 'orangered', 'steelblue', 'mediumseagreen', 'orangered', 'mediumseagreen', 'steelblue', 'steelblue', 'steelblue', 'mediumseagreen', 'orangered', 'mediumseagreen', 'steelblue', 'steelblue', 'mediumseagreen', 'mediumseagreen', 'orangered', 'steelblue', 'steelblue', 'steelblue', 'steelblue', 'steelblue', 'steelblue', 'steelblue', 'steelblue', 'steelblue', 'mediumseagreen', 'steelblue']\n",
      "['orangered', 'orangered', 'steelblue', 'steelblue', 'steelblue', 'steelblue', 'steelblue', 'steelblue', 'orangered', 'orangered', 'orangered', 'orangered', 'orangered', 'orangered', 'steelblue', 'orangered', 'orangered', 'steelblue', 'steelblue', 'orangered', 'steelblue', 'orangered', 'steelblue', 'orangered', 'orangered', 'orangered', 'steelblue', 'orangered', 'orangered', 'steelblue']\n"
     ]
    },
    {
     "name": "stderr",
     "output_type": "stream",
     "text": [
      "C:\\Users\\Kirchner\\AppData\\Local\\Temp/ipykernel_6856/3160605058.py:70: UserWarning: FixedFormatter should only be used together with FixedLocator\n",
      "  ax.set_xticklabels(ticks)\n"
     ]
    },
    {
     "name": "stdout",
     "output_type": "stream",
     "text": [
      "['mediumseagreen', 'orangered', 'mediumseagreen', 'mediumseagreen', 'orangered', 'mediumseagreen', 'mediumseagreen', 'mediumseagreen', 'mediumseagreen', 'orangered', 'orangered', 'orangered', 'mediumseagreen', 'steelblue', 'mediumseagreen', 'steelblue', 'orangered', 'steelblue', 'mediumseagreen', 'mediumseagreen', 'mediumseagreen', 'steelblue', 'orangered', 'mediumseagreen', 'mediumseagreen', 'steelblue', 'steelblue', 'orangered', 'mediumseagreen', 'orangered']\n",
      "['steelblue', 'orangered', 'orangered', 'orangered', 'orangered', 'steelblue', 'orangered', 'orangered', 'orangered', 'steelblue', 'steelblue', 'steelblue', 'orangered', 'orangered', 'orangered', 'steelblue', 'steelblue', 'steelblue', 'steelblue', 'orangered', 'orangered', 'orangered', 'orangered', 'orangered', 'orangered', 'orangered', 'orangered', 'steelblue', 'orangered', 'orangered']\n",
      "['orangered', 'orangered', 'orangered', 'orangered', 'orangered', 'orangered', 'mediumseagreen', 'orangered', 'orangered', 'orangered', 'steelblue', 'orangered', 'steelblue', 'orangered', 'orangered', 'orangered', 'steelblue', 'mediumseagreen', 'steelblue', 'orangered', 'steelblue', 'orangered', 'orangered', 'orangered', 'orangered', 'orangered', 'orangered', 'orangered', 'orangered', 'orangered']\n",
      "['orangered', 'steelblue', 'orangered', 'steelblue', 'orangered', 'orangered', 'orangered', 'orangered', 'orangered', 'orangered', 'orangered', 'orangered', 'orangered', 'orangered', 'steelblue', 'steelblue', 'steelblue', 'orangered', 'orangered', 'steelblue', 'orangered', 'mediumseagreen', 'steelblue', 'orangered', 'orangered', 'orangered', 'orangered', 'orangered', 'mediumseagreen', 'steelblue']\n",
      "['orangered', 'orangered', 'orangered', 'steelblue', 'orangered', 'orangered', 'orangered', 'orangered', 'orangered', 'orangered', 'orangered', 'orangered', 'orangered', 'orangered', 'steelblue', 'steelblue', 'steelblue', 'orangered', 'orangered', 'steelblue', 'orangered', 'mediumseagreen', 'orangered', 'orangered', 'orangered', 'orangered', 'orangered', 'orangered', 'mediumseagreen', 'steelblue']\n"
     ]
    },
    {
     "data": {
      "image/png": "[encoded data removed]",
      "text/plain": [
       "<Figure size 432x288 with 1 Axes>"
      ]
     },
     "metadata": {
      "needs_background": "light"
     },
     "output_type": "display_data"
    },
    {
     "data": {
      "image/png": "[encoded data removed]",
      "text/plain": [
       "<Figure size 432x288 with 1 Axes>"
      ]
     },
     "metadata": {
      "needs_background": "light"
     },
     "output_type": "display_data"
    },
    {
     "data": {
      "image/png": "[encoded data removed]",
      "text/plain": [
       "<Figure size 432x288 with 1 Axes>"
      ]
     },
     "metadata": {
      "needs_background": "light"
     },
     "output_type": "display_data"
    },
    {
     "data": {
      "image/png": "[encoded data removed]",
      "text/plain": [
       "<Figure size 432x288 with 1 Axes>"
      ]
     },
     "metadata": {
      "needs_background": "light"
     },
     "output_type": "display_data"
    },
    {
     "data": {
      "image/png": "[encoded data removed]",
      "text/plain": [
       "<Figure size 432x288 with 1 Axes>"
      ]
     },
     "metadata": {
      "needs_background": "light"
     },
     "output_type": "display_data"
    },
    {
     "data": {
      "image/png": "[encoded data removed]",
      "text/plain": [
       "<Figure size 432x288 with 1 Axes>"
      ]
     },
     "metadata": {
      "needs_background": "light"
     },
     "output_type": "display_data"
    },
    {
     "data": {
      "image/png": "[encoded data removed]",
      "text/plain": [
       "<Figure size 432x288 with 1 Axes>"
      ]
     },
     "metadata": {
      "needs_background": "light"
     },
     "output_type": "display_data"
    },
    {
     "data": {
      "image/png": "[encoded data removed]",
      "text/plain": [
       "<Figure size 432x288 with 1 Axes>"
      ]
     },
     "metadata": {
      "needs_background": "light"
     },
     "output_type": "display_data"
    }
   ],
   "source": [
    "user = ['knielang', 'Coraggioso-Ir6WKaaMR', 'Pet2020', 'Dirk-H-xIsGPZR']\n",
    "\n",
    "for x in user:\n",
    "    for y in [\"sentiment\", \"opinion\"]:\n",
    "        plot_dev(x, 30 , y)"
   ]
  },
  {
   "cell_type": "markdown",
   "metadata": {},
   "source": [
    "### Results\n",
    "This graph shows the development in sentiment and opinion from left to right.\n",
    "Here we can see that users have longer periods where they keep a constant sentiment. This can be seen in longer \"blocks\" of one color. The majority of user \"knielang\"'s comments seem to contain a neutral sentiment wheras for other users, the sentiment seems to be negative in the majority of the cases. Opinion wise, the distribution for these analysed users seems to be more uneven, but users like \"Dirk\" and \"Pet2020\" still seem to utter a negative opinion in most of the cases. This is due to the fact that different topics are discussed in these comments, leading to differnet opinions for different topic. As a result, the graphic shown does not necesserily imply that opinion changes frequently for users like \"Coraggioso\" as they have to be put in relation with the topics of the comment."
   ]
  }
 ],
 "metadata": {
  "interpreter": {
   "hash": "fb0ed09b01ac7e66b2ee8fd1b727dbc61e234ad6836f9832d0e5faf71aa1bb7a"
  },
  "kernelspec": {
   "display_name": "Python 3.8.11 ('Masterarbeit')",
   "language": "python",
   "name": "python3"
  },
  "language_info": {
   "codemirror_mode": {
    "name": "ipython",
    "version": 3
   },
   "file_extension": ".py",
   "mimetype": "text/x-python",
   "name": "python",
   "nbconvert_exporter": "python",
   "pygments_lexer": "ipython3",
   "version": "3.8.11"
  },
  "orig_nbformat": 4
 },
 "nbformat": 4,
 "nbformat_minor": 2
}
