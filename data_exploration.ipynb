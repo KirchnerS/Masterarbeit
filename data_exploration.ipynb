{
 "cells": [
  {
   "cell_type": "code",
   "execution_count": 18,
   "metadata": {},
   "outputs": [],
   "source": [
    "import pandas as pd\n",
    "from collections import defaultdict\n",
    "import matplotlib.pyplot as plt\n",
    "from matplotlib.ticker import MaxNLocator\n"
   ]
  },
  {
   "cell_type": "code",
   "execution_count": 9,
   "metadata": {},
   "outputs": [],
   "source": [
    "meine_daten = pd.read_csv(\"annotated_data/cleaned_annotated_data_training_800.txt\", names=[\"ID\", \"Date\", \"Time\", \"Comment Level\", \"Username\", \"Opinion\", \"Sentiment\", \"topic_comment\", \"Topic_article\", \"comment\"], delimiter=\"\\t\")\n",
    "\n"
   ]
  },
  {
   "cell_type": "code",
   "execution_count": 10,
   "metadata": {},
   "outputs": [
    {
     "name": "stderr",
     "output_type": "stream",
     "text": [
      "D:\\Program Files (x86)\\Miniconda3\\envs\\Masterarbeit\\lib\\site-packages\\pandas\\core\\indexing.py:1773: SettingWithCopyWarning: \n",
      "A value is trying to be set on a copy of a slice from a DataFrame.\n",
      "Try using .loc[row_indexer,col_indexer] = value instead\n",
      "\n",
      "See the caveats in the documentation: https://pandas.pydata.org/pandas-docs/stable/user_guide/indexing.html#returning-a-view-versus-a-copy\n",
      "  self._setitem_single_column(ilocs[0], value, pi)\n",
      "D:\\Program Files (x86)\\Miniconda3\\envs\\Masterarbeit\\lib\\site-packages\\pandas\\core\\indexing.py:1817: SettingWithCopyWarning: \n",
      "A value is trying to be set on a copy of a slice from a DataFrame.\n",
      "Try using .loc[row_indexer,col_indexer] = value instead\n",
      "\n",
      "See the caveats in the documentation: https://pandas.pydata.org/pandas-docs/stable/user_guide/indexing.html#returning-a-view-versus-a-copy\n",
      "  self._setitem_single_column(loc, value, pi)\n"
     ]
    }
   ],
   "source": [
    "Nan = meine_daten[meine_daten[\"comment\"].isnull()]\n",
    "Nan.loc[:, \"comment\"] = Nan.loc[:, \"Topic_article\"]\n",
    "Nan.loc[:, \"Topic_article\"] = \"NaN\"\n"
   ]
  },
  {
   "cell_type": "code",
   "execution_count": 12,
   "metadata": {},
   "outputs": [
    {
     "name": "stdout",
     "output_type": "stream",
     "text": [
      "                                       ID        Date   Time  Comment Level  \\\n",
      "407  dc560e1e-1b01-4bca-aac5-d1b5b3bf0e45  2021-02-13  16:46            0.0   \n",
      "569  c449c319-bd29-47f8-87fb-9ec76d99c967  2021-03-15  15:11            0.0   \n",
      "624  ad7ef84e-7733-46d8-8960-f09096480a50  2020-12-12  15:34            0.0   \n",
      "\n",
      "             Username  Opinion Sentiment topic_comment Topic_article  \\\n",
      "407  Markus-vvb8EOEWg  neutral   neutral         tests     überblick   \n",
      "569  Markus-vvb8EOEWg  neutral   neutral       impfung       impfung   \n",
      "624  Markus-vvb8EOEWg  neutral   neutral      lockdown     überblick   \n",
      "\n",
      "                                               comment  \n",
      "407  Ich frage mich wie diese Schnelltests geprüft ...  \n",
      "569  Es gibt zwei Möglichkeiten. Erstens, die Aussa...  \n",
      "624  Ein »kompletter Lockdown« muss auch Gottesdien...  \n",
      "defaultdict(<class 'list'>, {'knielang': ['neutral', 'negative', 'negative', 'neutral', 'negative']})\n",
      "defaultdict(<class 'list'>, {'knielang': ['neutral', 'negative', 'negative', 'neutral', 'negative'], 'Coraggioso-Ir6WKaaMR': ['negative', 'negative', 'negative', 'neutral']})\n",
      "defaultdict(<class 'list'>, {'knielang': ['neutral', 'negative', 'negative', 'neutral', 'negative'], 'Coraggioso-Ir6WKaaMR': ['negative', 'negative', 'negative', 'neutral'], 'Pet2020': ['negative', 'negative', 'negative']})\n",
      "defaultdict(<class 'list'>, {'knielang': ['neutral', 'negative', 'negative', 'neutral', 'negative'], 'Coraggioso-Ir6WKaaMR': ['negative', 'negative', 'negative', 'neutral'], 'Pet2020': ['negative', 'negative', 'negative'], 'Dirk-H-xIsGPZR': ['negative', 'negative', 'negative']})\n",
      "defaultdict(<class 'list'>, {'knielang': ['neutral', 'negative', 'negative', 'neutral', 'negative'], 'Coraggioso-Ir6WKaaMR': ['negative', 'negative', 'negative', 'neutral'], 'Pet2020': ['negative', 'negative', 'negative'], 'Dirk-H-xIsGPZR': ['negative', 'negative', 'negative'], 'HansUlrich': ['neutral', 'negative', 'neutral']})\n",
      "defaultdict(<class 'list'>, {'knielang': ['neutral', 'negative', 'negative', 'neutral', 'negative'], 'Coraggioso-Ir6WKaaMR': ['negative', 'negative', 'negative', 'neutral'], 'Pet2020': ['negative', 'negative', 'negative'], 'Dirk-H-xIsGPZR': ['negative', 'negative', 'negative'], 'HansUlrich': ['neutral', 'negative', 'neutral'], 'Markus-vvb8EOEWg': ['neutral', 'neutral', 'neutral']})\n",
      "defaultdict(<class 'list'>, {'knielang': ['neutral', 'negative', 'negative', 'neutral', 'negative'], 'Coraggioso-Ir6WKaaMR': ['negative', 'negative', 'negative', 'neutral'], 'Pet2020': ['negative', 'negative', 'negative'], 'Dirk-H-xIsGPZR': ['negative', 'negative', 'negative'], 'HansUlrich': ['neutral', 'negative', 'neutral'], 'Markus-vvb8EOEWg': ['neutral', 'neutral', 'neutral'], 'GuckyCD': ['negative', 'neutral', 'negative']})\n",
      "defaultdict(<class 'list'>, {'knielang': ['neutral', 'negative', 'negative', 'neutral', 'negative'], 'Coraggioso-Ir6WKaaMR': ['negative', 'negative', 'negative', 'neutral'], 'Pet2020': ['negative', 'negative', 'negative'], 'Dirk-H-xIsGPZR': ['negative', 'negative', 'negative'], 'HansUlrich': ['neutral', 'negative', 'neutral'], 'Markus-vvb8EOEWg': ['neutral', 'neutral', 'neutral'], 'GuckyCD': ['negative', 'neutral', 'negative'], 'Hans-hrmkpk6ZR': ['negative', 'negative', 'neutral']})\n",
      "defaultdict(<class 'list'>, {'knielang': ['neutral', 'negative', 'negative', 'neutral', 'negative'], 'Coraggioso-Ir6WKaaMR': ['negative', 'negative', 'negative', 'neutral'], 'Pet2020': ['negative', 'negative', 'negative'], 'Dirk-H-xIsGPZR': ['negative', 'negative', 'negative'], 'HansUlrich': ['neutral', 'negative', 'neutral'], 'Markus-vvb8EOEWg': ['neutral', 'neutral', 'neutral'], 'GuckyCD': ['negative', 'neutral', 'negative'], 'Hans-hrmkpk6ZR': ['negative', 'negative', 'neutral'], 'Karl-Ernst -5k_i_MEWg': ['negative', 'neutral', 'negative']})\n",
      "defaultdict(<class 'list'>, {'knielang': ['neutral', 'negative', 'negative', 'neutral', 'negative'], 'Coraggioso-Ir6WKaaMR': ['negative', 'negative', 'negative', 'neutral'], 'Pet2020': ['negative', 'negative', 'negative'], 'Dirk-H-xIsGPZR': ['negative', 'negative', 'negative'], 'HansUlrich': ['neutral', 'negative', 'neutral'], 'Markus-vvb8EOEWg': ['neutral', 'neutral', 'neutral'], 'GuckyCD': ['negative', 'neutral', 'negative'], 'Hans-hrmkpk6ZR': ['negative', 'negative', 'neutral'], 'Karl-Ernst -5k_i_MEWg': ['negative', 'neutral', 'negative'], 'Werner-iFz9kNPWR': ['neutral', 'neutral', 'negative']})\n",
      "knielang ['neutral', 'negative', 'negative', 'neutral', 'negative']\n",
      "Coraggioso-Ir6WKaaMR ['negative', 'negative', 'negative', 'neutral']\n",
      "Pet2020 ['negative', 'negative', 'negative']\n",
      "Dirk-H-xIsGPZR ['negative', 'negative', 'negative']\n",
      "HansUlrich ['neutral', 'negative', 'neutral']\n",
      "Markus-vvb8EOEWg ['neutral', 'neutral', 'neutral']\n",
      "GuckyCD ['negative', 'neutral', 'negative']\n",
      "Hans-hrmkpk6ZR ['negative', 'negative', 'neutral']\n",
      "Karl-Ernst -5k_i_MEWg ['negative', 'neutral', 'negative']\n",
      "Werner-iFz9kNPWR ['neutral', 'neutral', 'negative']\n",
      "dict_keys(['knielang', 'Coraggioso-Ir6WKaaMR', 'Pet2020', 'Dirk-H-xIsGPZR', 'HansUlrich', 'Markus-vvb8EOEWg', 'GuckyCD', 'Hans-hrmkpk6ZR', 'Karl-Ernst -5k_i_MEWg', 'Werner-iFz9kNPWR'])\n"
     ]
    },
    {
     "data": {
      "image/png": "[encoded data removed]",
      "text/plain": [
       "<Figure size 432x288 with 1 Axes>"
      ]
     },
     "metadata": {
      "needs_background": "light"
     },
     "output_type": "display_data"
    },
    {
     "data": {
      "image/png": "[encoded data removed]",
      "text/plain": [
       "<Figure size 432x288 with 1 Axes>"
      ]
     },
     "metadata": {
      "needs_background": "light"
     },
     "output_type": "display_data"
    },
    {
     "data": {
      "image/png": "[encoded data removed]",
      "text/plain": [
       "<Figure size 432x288 with 1 Axes>"
      ]
     },
     "metadata": {
      "needs_background": "light"
     },
     "output_type": "display_data"
    },
    {
     "data": {
      "image/png": "[encoded data removed]",
      "text/plain": [
       "<Figure size 432x288 with 1 Axes>"
      ]
     },
     "metadata": {
      "needs_background": "light"
     },
     "output_type": "display_data"
    },
    {
     "data": {
      "image/png": "[encoded data removed]",
      "text/plain": [
       "<Figure size 432x288 with 1 Axes>"
      ]
     },
     "metadata": {
      "needs_background": "light"
     },
     "output_type": "display_data"
    },
    {
     "data": {
      "image/png": "[encoded data removed]",
      "text/plain": [
       "<Figure size 432x288 with 1 Axes>"
      ]
     },
     "metadata": {
      "needs_background": "light"
     },
     "output_type": "display_data"
    },
    {
     "data": {
      "image/png": "[encoded data removed]",
      "text/plain": [
       "<Figure size 432x288 with 1 Axes>"
      ]
     },
     "metadata": {
      "needs_background": "light"
     },
     "output_type": "display_data"
    },
    {
     "data": {
      "image/png": "[encoded data removed]",
      "text/plain": [
       "<Figure size 432x288 with 1 Axes>"
      ]
     },
     "metadata": {
      "needs_background": "light"
     },
     "output_type": "display_data"
    },
    {
     "data": {
      "image/png": "[encoded data removed]",
      "text/plain": [
       "<Figure size 432x288 with 1 Axes>"
      ]
     },
     "metadata": {
      "needs_background": "light"
     },
     "output_type": "display_data"
    },
    {
     "data": {
      "image/png": "[encoded data removed]",
      "text/plain": [
       "<Figure size 432x288 with 1 Axes>"
      ]
     },
     "metadata": {
      "needs_background": "light"
     },
     "output_type": "display_data"
    }
   ],
   "source": [
    "\n",
    "\n",
    "\n",
    "# stores username and the corresponding sentiment\n",
    "sentiment_person = defaultdict(list)\n",
    "\n",
    "\n",
    "meine_daten.update(Nan)\n",
    "pd.set_option(\"display.max_rows\", None)\n",
    "# print(meine_daten.Username.value_counts())\n",
    "print(meine_daten.loc[meine_daten.Username == \"Markus-vvb8EOEWg\"])\n",
    "sentiment_verteilung = list(meine_daten.Sentiment.value_counts())\n",
    "opinion_verteilung = list(meine_daten.Opinion.value_counts())\n",
    "\n",
    "for username in meine_daten.Username.value_counts().index[:10]:\n",
    "    liste = list(meine_daten.loc[meine_daten.Username == username][\"Sentiment\"])\n",
    "    sentiment_person[username] = liste\n",
    "    print(sentiment_person)\n",
    "\n",
    "for key, value in sentiment_person.items():\n",
    "    print(key, value)\n",
    "    sentiment_person[key] = dict((l, value.count(l)) for l in set(value))\n",
    "\n",
    "\n",
    "print(sentiment_person.keys())\n",
    "\n",
    "for user in sentiment_person:\n",
    "    ax = plt.figure().gca()\n",
    "    ax.yaxis.set_major_locator(MaxNLocator(integer=True))\n",
    "    names = list(sentiment_person[user].keys()) \n",
    "    values = list(sentiment_person[user].values())\n",
    "    plt.title(user)\n",
    "    plt.bar(range(len(sentiment_person[user])), values, tick_label = names)\n",
    "    plt.show()"
   ]
  },
  {
   "cell_type": "code",
   "execution_count": 31,
   "metadata": {},
   "outputs": [
    {
     "name": "stdout",
     "output_type": "stream",
     "text": [
      "knielang Coraggioso-Ir6WKaaMR Pet2020 Dirk-H-xIsGPZR HansUlrich Markus-vvb8EOEWg GuckyCD Hans-hrmkpk6ZR Karl-Ernst -5k_i_MEWg Werner-iFz9kNPWR\n"
     ]
    }
   ],
   "source": [
    "print(*sentiment_person)"
   ]
  },
  {
   "cell_type": "code",
   "execution_count": 14,
   "metadata": {},
   "outputs": [
    {
     "data": {
      "image/png": "[encoded data removed]",
      "text/plain": [
       "<Figure size 432x288 with 1 Axes>"
      ]
     },
     "metadata": {
      "needs_background": "light"
     },
     "output_type": "display_data"
    }
   ],
   "source": [
    "import matplotlib.pyplot as plt\n",
    "sentiment = [\"negative\", \"neutral\", \"positive\"]\n",
    "\n",
    "\n",
    "s = pd.Series(\n",
    "    opinion_verteilung,\n",
    "    index = sentiment\n",
    ")\n",
    "\n",
    "\n",
    "plt.title(\"Distribution of sentiment annotations across labels\")\n",
    "plt.ylabel('Count')\n",
    "plt.xlabel('Sentiment')\n",
    "\n",
    "\n",
    "ax = plt.gca()\n",
    "\n",
    "my_colors = [\"tab:red\", \"tab:cyan\",\"tab:green\"]\n",
    "\n",
    "s.plot(kind=\"bar\",\n",
    "       color=my_colors)\n",
    "\n",
    "plt.show()\n"
   ]
  },
  {
   "cell_type": "code",
   "execution_count": 15,
   "metadata": {},
   "outputs": [
    {
     "data": {
      "image/png": "[encoded data removed]",
      "text/plain": [
       "<Figure size 432x288 with 2 Axes>"
      ]
     },
     "metadata": {
      "needs_background": "light"
     },
     "output_type": "display_data"
    }
   ],
   "source": [
    "fig, (ax1, ax2) = plt.subplots(2)\n",
    "\n",
    "fig.tight_layout()\n",
    "\n",
    "ax1.bar(sentiment, opinion_verteilung, color= [\"#990000\", \"#003380\",\"#006600\"])\n",
    "\n",
    "ax2.bar(sentiment, sentiment_verteilung, color= [\"#990000\", \"#003380\",\"#006600\"])\n",
    "\n",
    "ax1.set_title(\"Sentiment\", fontstyle=\"italic\")\n",
    "ax2.set_title(\"Opinion\", fontstyle=\"italic\")\n",
    "\n",
    "plt.savefig(\"Distribution_Sentiment_Opinion\")"
   ]
  },
  {
   "cell_type": "code",
   "execution_count": 29,
   "metadata": {},
   "outputs": [
    {
     "name": "stdout",
     "output_type": "stream",
     "text": [
      "0.4\n",
      "0.396\n",
      "0.204\n",
      "102\n"
     ]
    }
   ],
   "source": [
    "print(opinion_verteilung[0] / sum(opinion_verteilung))\n",
    "\n",
    "print(opinion_verteilung[1] / sum(opinion_verteilung))\n",
    "\n",
    "print(opinion_verteilung[2] / sum(opinion_verteilung))\n",
    "\n",
    "print(opinion_verteilung[2])\n"
   ]
  },
  {
   "cell_type": "code",
   "execution_count": null,
   "metadata": {},
   "outputs": [],
   "source": [
    "import numpy as np\n",
    "\n",
    "meine_daten.loc[(meine_daten.Opinion == \"positive\") & (meine_daten.Sentiment == \"negative\")]\n",
    "\n",
    "# meine_daten.Sentiment.value_counts()\n",
    "\n",
    "# meine_daten.loc[(meine_daten.Sentiment == \"positive\")]"
   ]
  },
  {
   "cell_type": "code",
   "execution_count": 3,
   "metadata": {},
   "outputs": [],
   "source": [
    "import sklearn.metrics as metrics"
   ]
  },
  {
   "cell_type": "markdown",
   "metadata": {},
   "source": [
    "### Cohens Kappa\n",
    "\n",
    "Formula as follows:\n",
    "\n",
    "$z = \\frac{p_o-p_e}{1-p_e}$\n",
    "\n",
    "Cohen's kappa coefficient (κ) is a statistic that is used to measure inter-rater reliability (...)\n",
    "\n",
    "https://en.wikipedia.org/wiki/Cohen%27s_kappa"
   ]
  },
  {
   "cell_type": "code",
   "execution_count": 4,
   "metadata": {},
   "outputs": [
    {
     "name": "stdout",
     "output_type": "stream",
     "text": [
      "['negative', 'neutral', 'neutral', 'negative', 'negative', 'positive', 'negative', 'negative', 'negative', 'neutral', 'negative', 'positive', 'negative', 'negative', 'negative', 'negative', 'neutral', 'neutral', 'neutral', 'neutral', 'negative', 'negative', 'negative', 'negative', 'neutral', 'negative', 'negative', 'neutral', 'negative', 'negative', 'neutral', 'negative', 'negative', 'negative', 'neutral', 'positive', 'negative', 'neutral', 'negative', 'neutral', 'negative', 'negative', 'neutral', 'negative', 'neutral', 'neutral', 'negative', 'negative', 'neutral', 'negative', 'negative', 'negative', 'neutral', 'neutral', 'negative', 'neutral', 'negative', 'neutral', 'negative', 'neutral']\n",
      "['negative', 'neutral', 'neutral', 'negative', 'negative', 'positive', 'negative', 'negative', 'negative', 'neutral', 'negative', 'positive', 'negative', 'negative', 'negative', 'negative', 'negative', 'neutral', 'negative', 'neutral', 'negative', 'negative', 'negative', 'negative', 'neutral', 'negative', 'neutral', 'neutral', 'negative', 'neutral', 'neutral', 'neutral', 'neutral', 'negative', 'neutral', 'positive', 'negative', 'neutral', 'neutral', 'neutral', 'negative', 'negative', 'neutral', 'neutral', 'neutral', 'negative', 'negative', 'negative', 'negative', 'negative', 'neutral', 'negative', 'neutral', 'neutral', 'negative', 'neutral', 'neutral', 'neutral', 'negative', 'neutral']\n",
      "0.4782608695652174\n"
     ]
    },
    {
     "data": {
      "text/plain": [
       "0.6277145811789038"
      ]
     },
     "execution_count": 4,
     "metadata": {},
     "output_type": "execute_result"
    }
   ],
   "source": [
    "sven_opinion = []\n",
    "vali_opinion = []\n",
    "\n",
    "sven_sentiment = []\n",
    "vali_sentiment = []\n",
    "\n",
    "# Here we are reading in the data for cohens kappa\n",
    " \n",
    "with open (\"annotated_data/svens_agreement.txt\") as sven:\n",
    "    for line in sven:\n",
    "        sven_opinion.append(line.split(\"\\t\")[5])\n",
    "        sven_sentiment.append(line.split(\"\\t\")[6])\n",
    "with open (\"annotated_data/vali_agreement.txt\") as vali:\n",
    "    for line in vali:\n",
    "        vali_opinion.append(line.split(\"\\t\")[5])\n",
    "        vali_sentiment.append(line.split(\"\\t\")[6])\n",
    "\n",
    "print(sven_sentiment)\n",
    "print(vali_sentiment)\n",
    "\n",
    "# We use sklearn method for this \n",
    "\n",
    "print(metrics.cohen_kappa_score(sven_opinion, vali_opinion))\n",
    "metrics.cohen_kappa_score(sven_sentiment, vali_sentiment)\n"
   ]
  },
  {
   "cell_type": "markdown",
   "metadata": {},
   "source": [
    "Reported values for Cohen's Kappa are **0.4782608695652174** and **0.6277145811789038** for Opinion and Sentiment Agreement Respectively.\n",
    "<br>\n",
    "<br>\n",
    "These scores correspond to a specific Strength of Agreement\n",
    "\n",
    "|Cohen's Kappa statistic   |Strength of Agreement\n",
    "|---|---|\n",
    "| 0.00  | Poor  |\n",
    "|   0.00 - 0.20 | Slight  |\n",
    "| 0.21 - 0.40  | Fair  |\n",
    "| 0.41 - 0.60  | Moderate  |\n",
    "| 0.61 - 0.80  | Substantial  |\n",
    "| 0.81 - 1.00  | Almost Perfect  |\n",
    "\n",
    "https://pubmed.ncbi.nlm.nih.gov/15883903/\n",
    "\n",
    "The scores show **Moderate** and **Substantial** Agreement for Opinion and Sentiment respectivly. \n",
    "<br>\n",
    "Even if these values show that the two annotators agreed in the majority of the cases, the task of annotating sentiment and opinion for a comment at hand was expected to be trivial, expecting higher values for kappa values in both cases.\n",
    "<br>\n",
    "By looking at the data, it is assumed that especially the neutral class was most diffcult to annotate and contributed the most to a decrease in score. This is why the following approach will count neutral classes from any annotator as agreeing labels in order to evaluate the difficulty of the neutral class"
   ]
  },
  {
   "cell_type": "code",
   "execution_count": 14,
   "metadata": {},
   "outputs": [
    {
     "name": "stdout",
     "output_type": "stream",
     "text": [
      "21 39 0 0\n",
      "1.0 0.42250000000000004 0.12249999999999998\n"
     ]
    },
    {
     "data": {
      "text/plain": [
       "1.0"
      ]
     },
     "execution_count": 14,
     "metadata": {},
     "output_type": "execute_result"
    }
   ],
   "source": [
    "def kappa_o_neutral(agreements_1, agreements_2):\n",
    "    \"\"\"\n",
    "    this function will return Cohen's Kappa without neutral classes\n",
    "    :param agreements_1: list of strings\n",
    "    :param agreements_2: list of strings\n",
    "    :return: float\n",
    "    \"\"\"\n",
    "\n",
    "    correct_correct = 0\n",
    "    false_false = 0\n",
    "    correct_false = 0\n",
    "    false_correct = 0\n",
    "\n",
    "    for idx, label in enumerate(agreements_1):\n",
    "\n",
    "        # all cases where we have a \"POS-POS-case\"\n",
    "        # Includes NEUTRAL NEUTRAL, POS POS, POS NEUTRAL, NEUTRAL POS\n",
    "        if (label == agreements_2[idx] == \"positive\") or (label == agreements_2[idx] == \"neutral\") or ((label == \"neutral\") and (agreements_2[idx] == \"positive\")) or ((label == \"positive\") and (agreements_2[idx] == \"neutral\")):\n",
    "            correct_correct += 1\n",
    "        \n",
    "        # all cases with \"POS-NEG-case\"\n",
    "        elif ((label == \"positive\") and (agreements_2[idx] == \"negative\")):\n",
    "            correct_false += 1\n",
    "\n",
    "        # all cases with \"NEG-POS-case\"\n",
    "        elif ((label == \"negative\") and (agreements_2[idx] == \"positive\")):\n",
    "            false_correct += 1\n",
    "\n",
    "        else:\n",
    "            false_false += 1\n",
    "\n",
    "    p_nought = (correct_correct + false_false) / (false_correct + correct_false + correct_correct + false_false)\n",
    "\n",
    "    p_correct = (correct_correct + correct_false) / (correct_correct + correct_false + false_correct + false_false) * ((correct_correct + false_correct) / (correct_correct + correct_false + false_correct + false_false))\n",
    "\n",
    "    p_incorrect = (false_correct + false_false) / (correct_correct + correct_false + false_correct + false_false) * ((correct_false + false_false) / (correct_correct + correct_false + false_correct + false_false))\n",
    "\n",
    "    p_expected = p_correct + p_incorrect\n",
    "\n",
    "    kappa = (p_nought - p_expected) / (1 - p_expected)\n",
    "\n",
    "    print(p_nought, p_incorrect, p_correct)\n",
    "\n",
    "    return kappa\n",
    "\n",
    "kappa_o_neutral(vali_sentiment, sven_sentiment)"
   ]
  },
  {
   "cell_type": "markdown",
   "metadata": {},
   "source": [
    "### Analysing specific users\n",
    "\n",
    "We have seen that some users that have commented multiple times in the randomly sampled data show some consistency when it comes to the opinion and sentiment. The goal now is to annotate more comments from these users in order to get a broader overview and see if this consistency still holds true.\n",
    "\n"
   ]
  },
  {
   "cell_type": "code",
   "execution_count": 17,
   "metadata": {},
   "outputs": [],
   "source": [
    "from bs4 import BeautifulSoup\n",
    "import requests"
   ]
  },
  {
   "cell_type": "code",
   "execution_count": 22,
   "metadata": {},
   "outputs": [
    {
     "data": {
      "text/html": [
       "<div>\n",
       "<style scoped>\n",
       "    .dataframe tbody tr th:only-of-type {\n",
       "        vertical-align: middle;\n",
       "    }\n",
       "\n",
       "    .dataframe tbody tr th {\n",
       "        vertical-align: top;\n",
       "    }\n",
       "\n",
       "    .dataframe thead th {\n",
       "        text-align: right;\n",
       "    }\n",
       "</style>\n",
       "<table border=\"1\" class=\"dataframe\">\n",
       "  <thead>\n",
       "    <tr style=\"text-align: right;\">\n",
       "      <th></th>\n",
       "      <th>ID</th>\n",
       "      <th>Date</th>\n",
       "      <th>Time</th>\n",
       "      <th>Comment Level</th>\n",
       "      <th>Username</th>\n",
       "      <th>comment</th>\n",
       "    </tr>\n",
       "  </thead>\n",
       "  <tbody>\n",
       "    <tr>\n",
       "      <th>1596</th>\n",
       "      <td>529f745f-c1a5-47ad-8be5-7121e770bf66</td>\n",
       "      <td>2021-05-01</td>\n",
       "      <td>22:55</td>\n",
       "      <td>0</td>\n",
       "      <td>Pet2020</td>\n",
       "      <td>Die Deutschen (Foristen) sind schon ein komisc...</td>\n",
       "    </tr>\n",
       "    <tr>\n",
       "      <th>1798</th>\n",
       "      <td>026242f6-62da-419b-b9a0-bc472d4c8fcf</td>\n",
       "      <td>2021-02-20</td>\n",
       "      <td>11:38</td>\n",
       "      <td>0</td>\n",
       "      <td>Pet2020</td>\n",
       "      <td>Warum plappern da die allermeisten?  Habt Ihr ...</td>\n",
       "    </tr>\n",
       "    <tr>\n",
       "      <th>3369</th>\n",
       "      <td>8df92bcd-9177-4a56-81c6-7e2951465aac</td>\n",
       "      <td>2020-05-10</td>\n",
       "      <td>11:25</td>\n",
       "      <td>0</td>\n",
       "      <td>Pet2020</td>\n",
       "      <td>An den Schulen der Kinder haben wir immer und...</td>\n",
       "    </tr>\n",
       "    <tr>\n",
       "      <th>3384</th>\n",
       "      <td>2117f885-33e6-4965-ad69-b6d542134cbc</td>\n",
       "      <td>2020-11-05</td>\n",
       "      <td>19:27</td>\n",
       "      <td>0</td>\n",
       "      <td>Pet2020</td>\n",
       "      <td>Ist eigentlich dem normalen Foristen bewusst, ...</td>\n",
       "    </tr>\n",
       "    <tr>\n",
       "      <th>3844</th>\n",
       "      <td>4555ad3b-b08b-478b-bdd5-db0cbbdfd31d</td>\n",
       "      <td>2021-03-18</td>\n",
       "      <td>11:58</td>\n",
       "      <td>0</td>\n",
       "      <td>Pet2020</td>\n",
       "      <td>Als in den USA die ersten Wahlautomaten kamen,...</td>\n",
       "    </tr>\n",
       "    <tr>\n",
       "      <th>...</th>\n",
       "      <td>...</td>\n",
       "      <td>...</td>\n",
       "      <td>...</td>\n",
       "      <td>...</td>\n",
       "      <td>...</td>\n",
       "      <td>...</td>\n",
       "    </tr>\n",
       "    <tr>\n",
       "      <th>404649</th>\n",
       "      <td>f1f0f3a0-e112-49d1-9b18-5c9900583c62</td>\n",
       "      <td>2020-12-10</td>\n",
       "      <td>16:15</td>\n",
       "      <td>0</td>\n",
       "      <td>Pet2020</td>\n",
       "      <td>16 Ministerpräsidenten treten zum Rednerpult, ...</td>\n",
       "    </tr>\n",
       "    <tr>\n",
       "      <th>404936</th>\n",
       "      <td>0bb662ae-e79f-4215-aa04-21e9240a2806</td>\n",
       "      <td>2021-05-17</td>\n",
       "      <td>11:38</td>\n",
       "      <td>0</td>\n",
       "      <td>Pet2020</td>\n",
       "      <td>Und für die Paniker: Schaut ins Ausland Lernt ...</td>\n",
       "    </tr>\n",
       "    <tr>\n",
       "      <th>405118</th>\n",
       "      <td>92f10e72-885c-43bb-b66e-b3a479776fce</td>\n",
       "      <td>2021-05-02</td>\n",
       "      <td>09:08</td>\n",
       "      <td>0</td>\n",
       "      <td>Pet2020</td>\n",
       "      <td>Weil hier immer so gerne von den Verharmlosern...</td>\n",
       "    </tr>\n",
       "    <tr>\n",
       "      <th>405381</th>\n",
       "      <td>c441c336-5120-47cb-9f1a-3968f643e255</td>\n",
       "      <td>2020-10-15</td>\n",
       "      <td>19:59</td>\n",
       "      <td>0</td>\n",
       "      <td>Pet2020</td>\n",
       "      <td>Lockdown: Der Staat verordnet Stillstand Dageg...</td>\n",
       "    </tr>\n",
       "    <tr>\n",
       "      <th>407565</th>\n",
       "      <td>8af7abef-887e-4b90-9a32-2b0e060c6c45</td>\n",
       "      <td>2021-02-13</td>\n",
       "      <td>08:32</td>\n",
       "      <td>0</td>\n",
       "      <td>Pet2020</td>\n",
       "      <td>Wäre ich China, die USA oder ein anderer Konku...</td>\n",
       "    </tr>\n",
       "  </tbody>\n",
       "</table>\n",
       "<p>843 rows × 6 columns</p>\n",
       "</div>"
      ],
      "text/plain": [
       "                                          ID        Date   Time  \\\n",
       "1596    529f745f-c1a5-47ad-8be5-7121e770bf66  2021-05-01  22:55   \n",
       "1798    026242f6-62da-419b-b9a0-bc472d4c8fcf  2021-02-20  11:38   \n",
       "3369    8df92bcd-9177-4a56-81c6-7e2951465aac  2020-05-10  11:25   \n",
       "3384    2117f885-33e6-4965-ad69-b6d542134cbc  2020-11-05  19:27   \n",
       "3844    4555ad3b-b08b-478b-bdd5-db0cbbdfd31d  2021-03-18  11:58   \n",
       "...                                      ...         ...    ...   \n",
       "404649  f1f0f3a0-e112-49d1-9b18-5c9900583c62  2020-12-10  16:15   \n",
       "404936  0bb662ae-e79f-4215-aa04-21e9240a2806  2021-05-17  11:38   \n",
       "405118  92f10e72-885c-43bb-b66e-b3a479776fce  2021-05-02  09:08   \n",
       "405381  c441c336-5120-47cb-9f1a-3968f643e255  2020-10-15  19:59   \n",
       "407565  8af7abef-887e-4b90-9a32-2b0e060c6c45  2021-02-13  08:32   \n",
       "\n",
       "        Comment Level Username  \\\n",
       "1596                0  Pet2020   \n",
       "1798                0  Pet2020   \n",
       "3369                0  Pet2020   \n",
       "3384                0  Pet2020   \n",
       "3844                0  Pet2020   \n",
       "...               ...      ...   \n",
       "404649              0  Pet2020   \n",
       "404936              0  Pet2020   \n",
       "405118              0  Pet2020   \n",
       "405381              0  Pet2020   \n",
       "407565              0  Pet2020   \n",
       "\n",
       "                                                  comment  \n",
       "1596    Die Deutschen (Foristen) sind schon ein komisc...  \n",
       "1798    Warum plappern da die allermeisten?  Habt Ihr ...  \n",
       "3369     An den Schulen der Kinder haben wir immer und...  \n",
       "3384    Ist eigentlich dem normalen Foristen bewusst, ...  \n",
       "3844    Als in den USA die ersten Wahlautomaten kamen,...  \n",
       "...                                                   ...  \n",
       "404649  16 Ministerpräsidenten treten zum Rednerpult, ...  \n",
       "404936  Und für die Paniker: Schaut ins Ausland Lernt ...  \n",
       "405118  Weil hier immer so gerne von den Verharmlosern...  \n",
       "405381  Lockdown: Der Staat verordnet Stillstand Dageg...  \n",
       "407565  Wäre ich China, die USA oder ein anderer Konku...  \n",
       "\n",
       "[843 rows x 6 columns]"
      ]
     },
     "execution_count": 22,
     "metadata": {},
     "output_type": "execute_result"
    }
   ],
   "source": [
    "class UserCommentProfiling:\n",
    "    \"\"\"\n",
    "    A class for profiling specific users \n",
    "\n",
    "\n",
    "    Attributes\n",
    "    ----------\n",
    "\n",
    "    user: str\n",
    "        The username of the user to profile\n",
    "\n",
    "    \n",
    "    Methods\n",
    "    ---------\n",
    "    get_title_and_subtitle()\n",
    "        returns the title and subtitle\n",
    "\n",
    "    \"\"\"\n",
    "    def __init__(self, url, user):\n",
    "\n",
    "        \"\"\"\n",
    "        Parameters\n",
    "        ----------\n",
    "        user : str\n",
    "            The username of the user to profile\n",
    "        \"\"\"\n",
    "\n",
    "        self.user = user\n",
    "    \n",
    "\n",
    "    def get_user(self):\n",
    "        \"\"\"\n",
    "        this method will return the username\n",
    "\n",
    "        Returns\n",
    "        ----------\n",
    "        string\n",
    "            The username.\n",
    "        \"\"\"\n",
    "        return self.user\n",
    "    def get_title_and_subtitle(self):\n",
    "        \"\"\"\n",
    "        this method will return the title and subtitle of a given URL\n",
    "\n",
    "        Returns\n",
    "        ----------\n",
    "        tuple\n",
    "            a tuple of two strings the title and subtitle\n",
    "        \"\"\"\n",
    "\n",
    "        request = requests.get(\"https://www.spiegel.de/wissenschaft/medizin/corona-news-am-samstag-die-wichtigsten-entwicklungen-zu-sars-cov-2-und-covid-19-a-\" + self.url)\n",
    "\n",
    "        soup = BeautifulSoup(request.content, \"html.parser\")\n",
    "\n",
    "        title = soup.find(\"title\").text\n",
    "\n",
    "        subtitle = soup.find(\"meta\", property=\"og:description\")[\"content\"]\n",
    "\n",
    "        return title, subtitle\n",
    "\n",
    "    \n",
    "# Here I check how far I have already annotated in ordere to not include comments twice\n",
    "\n",
    "with open (\"annotated_data/annotated_data_training.txt\", mode=\"r\", encoding=\"utf-8\") as f:\n",
    "    lines = [line for line in f.readlines() if line != \"\\n\"]\n",
    "    done_line = len(lines)\n",
    "\n",
    "meine_daten = pd.read_csv(\"shuffled_corona_relevante_kommentare.txt\", names=[\"ID\", \"Date\", \"Time\", \"Comment Level\", \"Username\",\"comment\"], delimiter=\"\\t\")\n",
    "\n",
    "frequent_users = ['knielang', 'Coraggioso-Ir6WKaaMR', 'Pet2020', 'Dirk-H-xIsGPZR', 'HansUlrich', 'Markus-vvb8EOEWg', 'GuckyCD', 'Hans-hrmkpk6ZR', 'Karl-Ernst -5k_i_MEWg', 'Werner-iFz9kNPWR']\n",
    "\n",
    "meine_daten = meine_daten[done_line:]\n",
    "\n",
    "meine_daten.loc[meine_daten.Username == \"Pet2020\"]"
   ]
  },
  {
   "cell_type": "code",
   "execution_count": 23,
   "metadata": {},
   "outputs": [
    {
     "data": {
      "text/plain": [
       "('Corona-News am Samstag: Rund jeder 1000. Bundesbürger an oder mit Corona gestorben - DER SPIEGEL',\n",
       " 'In der Union wird eine Schließung der Impfzentren schon in wenigen Wochen diskutiert. Außerdem: Rund jeder 1000. Bundesbürger ist an oder mit Corona gestorben. Der Überblick.')"
      ]
     },
     "execution_count": 23,
     "metadata": {},
     "output_type": "execute_result"
    }
   ],
   "source": [
    "meinUser = UserCommentProfiling(\"529f745f-c1a5-47ad-8be5-7121e770bf66\")\n",
    "\n",
    "meinUser.get_title_and_subtitle()"
   ]
  },
  {
   "cell_type": "code",
   "execution_count": 15,
   "metadata": {},
   "outputs": [
    {
     "name": "stdout",
     "output_type": "stream",
     "text": [
      "Corona-News am Samstag: Rund jeder 1000. Bundesbürger an oder mit Corona gestorben - DER SPIEGEL\n",
      "In der Union wird eine Schließung der Impfzentren schon in wenigen Wochen diskutiert. Außerdem: Rund jeder 1000. Bundesbürger ist an oder mit Corona gestorben. Der Überblick.\n"
     ]
    }
   ],
   "source": [
    "\n",
    "\n",
    "    "
   ]
  }
 ],
 "metadata": {
  "interpreter": {
   "hash": "6a20310e228b6a7685144e2c99f53cfe9336da15811431be3474f2b3320414c9"
  },
  "kernelspec": {
   "display_name": "Python 3.8.11 64-bit ('Masterarbeit': conda)",
   "language": "python",
   "name": "python3"
  },
  "language_info": {
   "codemirror_mode": {
    "name": "ipython",
    "version": 3
   },
   "file_extension": ".py",
   "mimetype": "text/x-python",
   "name": "python",
   "nbconvert_exporter": "python",
   "pygments_lexer": "ipython3",
   "version": "3.8.11"
  },
  "orig_nbformat": 4
 },
 "nbformat": 4,
 "nbformat_minor": 2
}
