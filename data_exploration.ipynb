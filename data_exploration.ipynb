{
 "cells": [
  {
   "cell_type": "code",
   "execution_count": 3,
   "metadata": {},
   "outputs": [],
   "source": [
    "import pandas as pd\n"
   ]
  },
  {
   "cell_type": "code",
   "execution_count": 7,
   "metadata": {},
   "outputs": [],
   "source": [
    "meine_daten = pd.read_csv(\"annotated_data/cleaned_annotated_data_training_800.txt\", names=[\"ID\", \"Date\", \"Time\", \"Comment Level\", \"Username\", \"Opinion\", \"Sentiment\", \"topic_comment\", \"Topic_article\", \"comment\"], delimiter=\"\\t\")\n",
    "\n"
   ]
  },
  {
   "cell_type": "code",
   "execution_count": 8,
   "metadata": {},
   "outputs": [
    {
     "name": "stderr",
     "output_type": "stream",
     "text": [
      "D:\\Program Files (x86)\\Miniconda3\\envs\\Masterarbeit\\lib\\site-packages\\pandas\\core\\indexing.py:1773: SettingWithCopyWarning: \n",
      "A value is trying to be set on a copy of a slice from a DataFrame.\n",
      "Try using .loc[row_indexer,col_indexer] = value instead\n",
      "\n",
      "See the caveats in the documentation: https://pandas.pydata.org/pandas-docs/stable/user_guide/indexing.html#returning-a-view-versus-a-copy\n",
      "  self._setitem_single_column(ilocs[0], value, pi)\n",
      "D:\\Program Files (x86)\\Miniconda3\\envs\\Masterarbeit\\lib\\site-packages\\pandas\\core\\indexing.py:1817: SettingWithCopyWarning: \n",
      "A value is trying to be set on a copy of a slice from a DataFrame.\n",
      "Try using .loc[row_indexer,col_indexer] = value instead\n",
      "\n",
      "See the caveats in the documentation: https://pandas.pydata.org/pandas-docs/stable/user_guide/indexing.html#returning-a-view-versus-a-copy\n",
      "  self._setitem_single_column(loc, value, pi)\n"
     ]
    }
   ],
   "source": [
    "Nan = meine_daten[meine_daten[\"comment\"].isnull()]\n",
    "Nan.loc[:, \"comment\"] = Nan.loc[:, \"Topic_article\"]\n",
    "Nan.loc[:, \"Topic_article\"] = \"NaN\"\n"
   ]
  },
  {
   "cell_type": "code",
   "execution_count": 9,
   "metadata": {},
   "outputs": [
    {
     "name": "stdout",
     "output_type": "stream",
     "text": [
      "politik                124\n",
      "impfung                118\n",
      "lockdown                96\n",
      "maßnahmen               79\n",
      "infektion               57\n",
      "virus                   29\n",
      "lockerung               28\n",
      "wirtschaft              25\n",
      "maskenpflicht           21\n",
      "reise                   21\n",
      "tests                   12\n",
      "schulschliessung         8\n",
      "usa                      8\n",
      "demos                    8\n",
      "homeoffice               7\n",
      "quarantäne               7\n",
      "reiseverbot              6\n",
      "inzidenz                 4\n",
      "china                    4\n",
      "demo                     4\n",
      "krise                    4\n",
      "schulschließung          3\n",
      "testen                   3\n",
      "fußball                  3\n",
      "konjunktur               3\n",
      "antikörper               2\n",
      "warnapp                  2\n",
      "schulöffnung             2\n",
      "ausgangssperre           2\n",
      "tourismus                2\n",
      "intensivstation          2\n",
      "kontaktbeschränkung      2\n",
      "RKI                      2\n",
      "arbeit                   2\n",
      "kontrolle                2\n",
      "negative                 2\n",
      "querdenker               2\n",
      "intensivstationen        2\n",
      "einreise                 2\n",
      "grenzschließung          2\n",
      "maske                    2\n",
      "testpflicht              2\n",
      "drosten                  2\n",
      "masken                   2\n",
      "kirche                   1\n",
      "regierung                1\n",
      "präsenzunterricht        1\n",
      "ÖPNV                     1\n",
      "russland                 1\n",
      "schnelltests             1\n",
      "reisen                   1\n",
      "schweden                 1\n",
      "kinderimpfung            1\n",
      "kinderförderung          1\n",
      "coronahilfen             1\n",
      "kontaktverfolgung        1\n",
      "grenzkontrolle           1\n",
      "intesivstationen         1\n",
      "schule                   1\n",
      "homeschooling            1\n",
      "einzelhandel             1\n",
      "USA                      1\n",
      "verschärfungen           1\n",
      "präsenzpflicht           1\n",
      "familie                  1\n",
      "volk                     1\n",
      "trump                    1\n",
      "ausgangssperren          1\n",
      "hilfspaket               1\n",
      "schließung               1\n",
      "risikogebiet             1\n",
      "einreiseregeln           1\n",
      "grenzschliessung         1\n",
      "alkoholverbot            1\n",
      "WEG                      1\n",
      "kontrollen               1\n",
      "xxx                      1\n",
      "einreiseregel            1\n",
      "wahl                     1\n",
      "online                   1\n",
      "sperrstunde              1\n",
      "stufenplan               1\n",
      "pflegebonus              1\n",
      "kurzarbeit               1\n",
      "amazon                   1\n",
      "abstand                  1\n",
      "gesellschaft             1\n",
      "auslandshilfe            1\n",
      "PEI                      1\n",
      "staatshilfen             1\n",
      "medikamente              1\n",
      "bildung                  1\n",
      "inzidenzwert             1\n",
      "variante                 1\n",
      "steuersenkung            1\n",
      "behandlung               1\n",
      "todesfälle               1\n",
      "schuldenbremse           1\n",
      "grenzkontrollen          1\n",
      "schulverlängerung        1\n",
      "astra                    1\n",
      "beherbergungsverbot      1\n",
      "schliessung              1\n",
      "fussball                 1\n",
      "herdenimmunität          1\n",
      "Name: topic_comment, dtype: int64\n"
     ]
    }
   ],
   "source": [
    "meine_daten.update(Nan)\n",
    "pd.set_option(\"display.max_rows\", None)\n",
    "print(meine_daten.topic_comment.value_counts())\n",
    "sentiment_verteilung = list(meine_daten.Sentiment.value_counts())\n",
    "opinion_verteilung = list(meine_daten.Opinion.value_counts())\n",
    "\n",
    "# print(meine_daten.Username.value_counts())\n",
    "# meine_daten.loc[meine_daten.Username == \"Coraggioso-Ir6WKaaMR\"]\n"
   ]
  },
  {
   "cell_type": "code",
   "execution_count": 14,
   "metadata": {},
   "outputs": [
    {
     "data": {
      "image/png": "[encoded data removed]",
      "text/plain": [
       "<Figure size 432x288 with 1 Axes>"
      ]
     },
     "metadata": {
      "needs_background": "light"
     },
     "output_type": "display_data"
    }
   ],
   "source": [
    "import matplotlib.pyplot as plt\n",
    "sentiment = [\"negative\", \"neutral\", \"positive\"]\n",
    "\n",
    "\n",
    "s = pd.Series(\n",
    "    opinion_verteilung,\n",
    "    index = sentiment\n",
    ")\n",
    "\n",
    "\n",
    "plt.title(\"Distribution of sentiment annotations across labels\")\n",
    "plt.ylabel('Count')\n",
    "plt.xlabel('Sentiment')\n",
    "\n",
    "\n",
    "ax = plt.gca()\n",
    "\n",
    "my_colors = [\"tab:red\", \"tab:cyan\",\"tab:green\"]\n",
    "\n",
    "s.plot(kind=\"bar\",\n",
    "       color=my_colors)\n",
    "\n",
    "plt.show()\n"
   ]
  },
  {
   "cell_type": "code",
   "execution_count": 15,
   "metadata": {},
   "outputs": [
    {
     "data": {
      "image/png": "[encoded data removed]",
      "text/plain": [
       "<Figure size 432x288 with 2 Axes>"
      ]
     },
     "metadata": {
      "needs_background": "light"
     },
     "output_type": "display_data"
    }
   ],
   "source": [
    "fig, (ax1, ax2) = plt.subplots(2)\n",
    "\n",
    "fig.tight_layout()\n",
    "\n",
    "ax1.bar(sentiment, opinion_verteilung, color= [\"#990000\", \"#003380\",\"#006600\"])\n",
    "\n",
    "ax2.bar(sentiment, sentiment_verteilung, color= [\"#990000\", \"#003380\",\"#006600\"])\n",
    "\n",
    "ax1.set_title(\"Sentiment\", fontstyle=\"italic\")\n",
    "ax2.set_title(\"Opinion\", fontstyle=\"italic\")\n",
    "\n",
    "plt.savefig(\"Distribution_Sentiment_Opinion\")"
   ]
  },
  {
   "cell_type": "code",
   "execution_count": 29,
   "metadata": {},
   "outputs": [
    {
     "name": "stdout",
     "output_type": "stream",
     "text": [
      "0.4\n",
      "0.396\n",
      "0.204\n",
      "102\n"
     ]
    }
   ],
   "source": [
    "print(opinion_verteilung[0] / sum(opinion_verteilung))\n",
    "\n",
    "print(opinion_verteilung[1] / sum(opinion_verteilung))\n",
    "\n",
    "print(opinion_verteilung[2] / sum(opinion_verteilung))\n",
    "\n",
    "print(opinion_verteilung[2])\n"
   ]
  },
  {
   "cell_type": "code",
   "execution_count": null,
   "metadata": {},
   "outputs": [],
   "source": [
    "import numpy as np\n",
    "\n",
    "meine_daten.loc[(meine_daten.Opinion == \"positive\") & (meine_daten.Sentiment == \"negative\")]\n",
    "\n",
    "# meine_daten.Sentiment.value_counts()\n",
    "\n",
    "# meine_daten.loc[(meine_daten.Sentiment == \"positive\")]"
   ]
  },
  {
   "cell_type": "code",
   "execution_count": 3,
   "metadata": {},
   "outputs": [],
   "source": [
    "import sklearn.metrics as metrics"
   ]
  },
  {
   "cell_type": "code",
   "execution_count": 13,
   "metadata": {},
   "outputs": [
    {
     "name": "stdout",
     "output_type": "stream",
     "text": [
      "['negative', 'neutral', 'neutral', 'negative', 'negative', 'positive', 'negative', 'negative', 'negative', 'neutral', 'negative', 'positive', 'negative', 'negative', 'negative', 'negative', 'neutral', 'neutral', 'neutral', 'neutral', 'negative', 'negative', 'negative', 'negative', 'neutral', 'negative', 'negative', 'neutral', 'negative', 'negative', 'neutral', 'negative', 'negative', 'negative', 'neutral', 'positive', 'negative', 'neutral', 'negative', 'neutral', 'negative', 'negative', 'neutral', 'negative', 'neutral', 'neutral', 'negative', 'negative', 'neutral', 'negative', 'negative', 'negative', 'neutral', 'neutral', 'negative', 'neutral', 'negative', 'neutral', 'negative', 'neutral']\n",
      "['negative', 'neutral', 'neutral', 'negative', 'negative', 'positive', 'negative', 'negative', 'negative', 'neutral', 'negative', 'positive', 'negative', 'negative', 'negative', 'negative', 'negative', 'neutral', 'negative', 'neutral', 'negative', 'negative', 'negative', 'negative', 'neutral', 'negative', 'neutral', 'neutral', 'negative', 'neutral', 'neutral', 'neutral', 'neutral', 'negative', 'neutral', 'positive', 'negative', 'neutral', 'neutral', 'neutral', 'negative', 'negative', 'neutral', 'neutral', 'neutral', 'negative', 'negative', 'negative', 'negative', 'negative', 'neutral', 'negative', 'neutral', 'neutral', 'negative', 'neutral', 'neutral', 'neutral', 'negative', 'neutral']\n",
      "0.4782608695652174\n"
     ]
    },
    {
     "data": {
      "text/plain": [
       "0.6277145811789038"
      ]
     },
     "execution_count": 13,
     "metadata": {},
     "output_type": "execute_result"
    }
   ],
   "source": [
    "sven_opinion = []\n",
    "vali_opinion = []\n",
    "\n",
    "sven_sentiment = []\n",
    "vali_sentiment = []\n",
    "\n",
    "\n",
    "with open (\"annotated_data/svens_agreement.txt\") as sven:\n",
    "    for line in sven:\n",
    "        sven_opinion.append(line.split(\"\\t\")[5])\n",
    "        sven_sentiment.append(line.split(\"\\t\")[6])\n",
    "with open (\"annotated_data/vali_agreement.txt\") as vali:\n",
    "    for line in vali:\n",
    "        vali_opinion.append(line.split(\"\\t\")[5])\n",
    "        vali_sentiment.append(line.split(\"\\t\")[6])\n",
    "\n",
    "print(sven_sentiment)\n",
    "print(vali_sentiment)\n",
    "\n",
    "print(metrics.cohen_kappa_score(sven_opinion, vali_opinion))\n",
    "metrics.cohen_kappa_score(sven_sentiment, vali_sentiment)\n"
   ]
  }
 ],
 "metadata": {
  "interpreter": {
   "hash": "6a20310e228b6a7685144e2c99f53cfe9336da15811431be3474f2b3320414c9"
  },
  "kernelspec": {
   "display_name": "Python 3.8.11 64-bit ('Masterarbeit': conda)",
   "language": "python",
   "name": "python3"
  },
  "language_info": {
   "codemirror_mode": {
    "name": "ipython",
    "version": 3
   },
   "file_extension": ".py",
   "mimetype": "text/x-python",
   "name": "python",
   "nbconvert_exporter": "python",
   "pygments_lexer": "ipython3",
   "version": "3.8.11"
  },
  "orig_nbformat": 4
 },
 "nbformat": 4,
 "nbformat_minor": 2
}
